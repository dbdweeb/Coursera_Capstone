{
 "cells": [
  {
   "cell_type": "markdown",
   "metadata": {},
   "source": [
    "## Golfing in Hawaii"
   ]
  },
  {
   "cell_type": "markdown",
   "metadata": {},
   "source": [
    "### Problem Description and Discussion\n",
    "\n",
    "In discovery discussions with the client on the **_business of golf in Hawaii_**, it soon became clear they were looking for sound data on which to make some significant business decisions. In their business community everyone claims to know the business. But the client wants to go beyond anecdotal stories and acquire a deep understanding of the customer. \n",
    "\n",
    "There are many vacationers coming to Hawaii who also play some golf while they are here. But among those coming to Hawaii, many are serious golfers looking to maintain their game skills during the off season. As we often tell the mainlanders, \"_It's never off season in Hawaii._\"\n",
    "\n",
    "**The casual golfer:** For the casual golfer there are many suitable services such as: resorts with splendid accommodations and golf courses; golf tour packages through online hotel reservation systems; a few independent tour guide services specializing in golf; and the occasional golf pro instructor with a small client base. Oftentimes the golf pro will work almost exclusively with one of the big resorts and have the occasional side job with a client. \n",
    "\n",
    "**The serious golfer:** For the serious golfer finding an adequate service is more of a challenge. While they may enjoy some vacation time while here, their main focus is golf, serious golf. They don't want to be annoyed by casual golfers, they don't want to be treated like a tourist, they often come for an extended stay in Hawaii every winter for one main purpose, serious golf. While golf courses at the resorts are quite good, they don't want to get stuck in a foursome with golf novices because this is all about **_serious golf_**. This type of visitor is willing to pay **_serious money_**. These clients are looking for an upscale guide service which includes knowledgeable golf pros and caters to serious golfers like themselves. This type of customer is usually looking to play several golf courses during their stay. For this customer it's like collecting bragging rights for their golf buddies so they can say things like, \"_Oh yeah, I golfed that course. Do you remember the 14th fairway?_\" \n",
    "\n",
    "#### Key Question\n",
    "From an extensive review of golf services in Hawaii a key question came into focus... \n",
    "\n",
    "\"**_How can we provide the best tour guide service for the serious golfer coming to Hawaii?_**\" \n",
    "\n",
    "With this question there a several follow-on questions:\n",
    "- Which courses are most likely to be on the serious golfer's list?\n",
    "- Which courses should we strongly recommend?\n",
    "- How long is the typical golfing vacation?\n",
    "- How many days should we plan the tours?\n",
    "- For a one week tour, which golf courses would a serious golf fan play?\n",
    "- Two week tour?\n",
    "- Three week tour?\n",
    "- How do the accommodations fit into this equation?\n",
    "- What is the short list of courses for us to spend time on gaining the intimate knowledge needed \n",
    "to give good recommendations on how to play each hole on the course?\n",
    "\n",
    "#### Stakeholders\n",
    "There are many potential stakeholders in these questions and the data needed to answer them:\n",
    "- The resort and hotel industry\n",
    "- The golf course design and construction industry\n",
    "- The tour guide industry\n",
    "- Golf pro instructors\n",
    "\n",
    "#### Target Audience\n",
    "The target audience for this data science study is a consortium of golf instructors. While they do okay as captive employees to the stereotypical resort, they can do much better as independent guides. While they often receive tips as a resort employee, as an independent guide they can build the tip into the service and still receive additional, lucrative tips which they don't have to share with the resort staff. While there is competition among the independent golf pros, they realize they can pool their knowledge and skills to offer a premium service with broad appeal. \n",
    "\n",
    "#### Why They Care\n",
    "By building this premium service together, this like minded group of golf pros is confident they can make an exceptionally good living while living in paradise and \"working\" at one of the best jobs in the world. \n",
    "\n",
    "--------"
   ]
  },
  {
   "cell_type": "markdown",
   "metadata": {},
   "source": [
    "## Data Description and Usage\n",
    "\n",
    "#### Foursquare Data\n",
    "For this project it is abundantly clear that the data available from [FOURSQUARE](http://foursquare.com/ \"Foursqare\") is of great value and can be used to:\n",
    "- Develop a geo-location inventory of all the golf courses in Hawaii\n",
    "- Continuously gather and evaluate reviews of all the golf courses\n",
    "- Plan tours to play the most courses with the least amount of travel\n",
    "- Develop a **short list** of the most highly recommended courses for the serious golf fan\n",
    "\n",
    "The geo-location data is indispensable for this project. It can effectively be used to gather and develop a database of golf courses. This database can be used to recommend and tailor custom tours for each client. Island-wide maps of the golf courses will provide a nice visual appeal and help in planning the tour. The distance and location data will be very valuable. Readily available reviews from the tips data in Foursquare will be much better than the typical static reviews on the resort web sites. This is especially valuable for current reviews from real players on the conditions of each golf course. Additionally, the client can encourage reviews from their customers and develop a network of reviewers with a good reputation. Telling the serious golfer that his insights are valuable is not only helpful to the business, but a good compliment and selling point for the customer. Finally, the Foursquare data will come in quite handy for all the other accommodations needed for the tour such as hotels, restaurants and transportation. \n",
    "\n",
    "#### Other Data, Missing Data and Data Wrangling\n",
    "- If data is scarce for some locations and venues, a search for alternative sources should be conducted.\n",
    "- Mean values can be filled it for missing numeric data as appropriate.\n",
    "\n",
    "Per data science methodology, because this study answers the following yes/no question: _Should I play course ABC?_... The **classification approach** will be used.\n",
    "\n",
    "**Data Wrangling** will be a significant effort in providing quality data for this project. Because the source data is provided by end user input, much of the location data needs to be fixed. There is a lack of consistent naming and there are multiple entries for the same golf courses. Specific Foursquare location data for \"the 10th green is not helpful. Likewise, some of the reviews can be flippant and non-informative. \n",
    "\n",
    "#### Extra data needs\n",
    "For specific data beyound what is available in Foursquare, it may be scraped from sites such as these:\n",
    "- [Hawaii Golf](http://www.hawaiigolf.com/courses/)\n",
    "- [Top 100 Courses](https://www.top100golfcourses.com/golf-courses/north-america/usa/hawaii)\n",
    "- [Hawaii State Golf](http://www.hawaiistategolf.org/Default.aspx%3Fp%3DDynamicModule%26pageid%3D309547%26ssid%3D198036%26vnf%3D1)\n",
    "\n",
    "#### Data Examples\n",
    "Here are some examples of the data we will provide: \n",
    "- Island Maps\n",
    "- The Golf Course Short List\n",
    "- Course Reviews"
   ]
  },
  {
   "cell_type": "markdown",
   "metadata": {},
   "source": [
    "### Island Maps\n",
    "\n",
    "Notes to project reviewer:\n",
    "- Please note that this is just a data preview, so the map will only be for the Big Island.\n",
    "- Please scroll down to the bottom so you can review the resulting visuals of the example data."
   ]
  },
  {
   "cell_type": "code",
   "execution_count": 1,
   "metadata": {},
   "outputs": [
    {
     "name": "stdout",
     "output_type": "stream",
     "text": [
      "Libraries imported.\n"
     ]
    }
   ],
   "source": [
    "# Import all needed packages here\n",
    "import numpy as np\n",
    "import pandas as pd\n",
    "import requests\n",
    "import json\n",
    "from pandas.io.json import json_normalize\n",
    "#import matplotlib.cm as cm\n",
    "#import matplotlib.colors as colors\n",
    "import geocoder\n",
    "import folium\n",
    "from constants import CLIENT_ID, CLIENT_SECRET, CATID, VERSION, LIMIT\n",
    "pd.set_option('display.max_columns', None)\n",
    "pd.set_option('display.max_rows', 20)\n",
    "print('Libraries imported.')"
   ]
  },
  {
   "cell_type": "markdown",
   "metadata": {},
   "source": [
    "#### Get location data"
   ]
  },
  {
   "cell_type": "code",
   "execution_count": 3,
   "metadata": {},
   "outputs": [],
   "source": [
    "geo_data = [ #Island      Town             Radius    meters in a mile = 1610\n",
    "            ('Hawaii',   'Naalehu, HI',    161000),\n",
    "            ('Lanai',    'Lanai City, HI',  16100),\n",
    "            ('Maui',     'Pukalani, HI',    40250),\n",
    "            ('Molokai',  'Kualapuu, HI',     4830),\n",
    "            ('Oahu',     'Laie, HI',        64400),\n",
    "            ('Kauai',    'Wailua, HI',      40250),\n",
    "           ]"
   ]
  },
  {
   "cell_type": "code",
   "execution_count": 5,
   "metadata": {},
   "outputs": [
    {
     "name": "stdout",
     "output_type": "stream",
     "text": [
      "Naalehu, HI 19.061420000000055 -155.58232999999998\n",
      "Lanai City, HI 20.82794000000007 -156.91951999999998\n",
      "Pukalani, HI 20.839210000000037 -156.34107999999998\n",
      "Kualapuu, HI 21.151910000000044 -157.03659999999996\n",
      "Laie, HI 21.64867000000004 -157.92323999999996\n",
      "Wailua, HI 22.055890000000034 -159.37107999999998\n",
      "Done getting coordinates.\n"
     ]
    }
   ],
   "source": [
    "default_radius = 40234 # in meters = 25 miles\n",
    "d_island = {}\n",
    "for island, town, radius in geo_data:\n",
    "    lat = lng = None\n",
    "    while lng is None:\n",
    "        gc = geocoder.arcgis(town)\n",
    "        lat, lng = gc.latlng\n",
    "    d_island[town] = {'latitude':lat, 'longitude': lng, 'radius': radius,\n",
    "                      'venue_list': None, 'venues_df': None, 'map': None}\n",
    "    print(town, lat, lng)\n",
    "\n",
    "print('Done getting coordinates.')"
   ]
  },
  {
   "cell_type": "code",
   "execution_count": 13,
   "metadata": {},
   "outputs": [],
   "source": [
    "# Just do the Big Island for the example\n",
    "lat = 19.061420000000055\n",
    "lng = -155.58232999999998\n",
    "radius = 161000"
   ]
  },
  {
   "cell_type": "code",
   "execution_count": 14,
   "metadata": {},
   "outputs": [],
   "source": [
    "def get_geo_data(lat, lng, radius):\n",
    "    burl = 'https://api.foursquare.com/v2/venues/search?'\n",
    "    buri = '&client_id={}&client_secret={}&v={}&categoryId={}&limit={}&radius={}&ll={},{}'\n",
    "    url = burl + buri\n",
    "    url = url.format(CLIENT_ID, CLIENT_SECRET, VERSION, CATID, LIMIT, radius, lat, lng)\n",
    "    return requests.get(url).json()"
   ]
  },
  {
   "cell_type": "code",
   "execution_count": 18,
   "metadata": {},
   "outputs": [],
   "source": [
    "json_data = get_geo_data(lat, lng, radius)"
   ]
  },
  {
   "cell_type": "code",
   "execution_count": 16,
   "metadata": {},
   "outputs": [],
   "source": [
    "def create_venues_list(json_data):\n",
    "    l_dict_data = json_data['response']['venues'][:]\n",
    "    l_venues = []\n",
    "    for dven in l_dict_data:\n",
    "        ltmp = [dven['name'].title(), \n",
    "                float(dven['location']['lat']), \n",
    "                float(dven['location']['lng']), \n",
    "                round(dven['location']['distance']/1609.344, 1),\n",
    "                dven['id']]\n",
    "        l_venues.append(ltmp)\n",
    "    l_venues.sort()\n",
    "    return l_venues"
   ]
  },
  {
   "cell_type": "code",
   "execution_count": null,
   "metadata": {},
   "outputs": [],
   "source": [
    "l_venues = create_venues_list(json_data)\n",
    "top_courses = [\n",
    " 'Four Seasons Resort Hualalai At Historic Ka`Upulehu',\n",
    " 'Hapuna Golf Course',\n",
    " 'The Club At Hokulia',\n",
    " 'Hualalai Golf Course',\n",
    " 'Kona Country Club: The Ocean Course',\n",
    " 'Mauna Kea Golf Course',\n",
    " 'Mauna Lani South Course',\n",
    " 'Nanea',\n",
    " 'Waikoloa Village Golf Club']\n",
    "top_venues = [ven for ven in l_venues if ven[0] in top_courses]\n",
    "short_list = create_venues_df(top_venues)\n",
    "#short_list"
   ]
  },
  {
   "cell_type": "code",
   "execution_count": 41,
   "metadata": {},
   "outputs": [],
   "source": [
    "def create_venues_df(list_data):\n",
    "    df = pd.DataFrame(columns=['Golf Course', 'Latitude', 'Longitude', 'Distance'])\n",
    "    for crs, lat, lng, dst, id in list_data:\n",
    "        df = df.append({'Golf Course': crs, 'Latitude': lat, 'Longitude': lng,\n",
    "                        'Distance': dst}, ignore_index=True)\n",
    "    return df"
   ]
  },
  {
   "cell_type": "code",
   "execution_count": 46,
   "metadata": {},
   "outputs": [],
   "source": [
    "def create_map(lat, lng, points):\n",
    "    the_map = folium.Map(location=[lat, lng], zoom_start=9)\n",
    "    # add points for golf courses\n",
    "    for course, lat, lng, dst, vid in points:\n",
    "        label = '{}'.format(course)\n",
    "        label = folium.Popup(label, parse_html=True)\n",
    "        folium.CircleMarker([lat, lng], radius=5, popup=label, color='blue',\n",
    "            fill=True, fill_color='#3186cc', fill_opacity=0.7, \n",
    "            parse_html=False).add_to(the_map)\n",
    "\n",
    "    return the_map"
   ]
  },
  {
   "cell_type": "code",
   "execution_count": 47,
   "metadata": {},
   "outputs": [],
   "source": [
    "def get_venue_data(venue_id):\n",
    "    url = 'https://api.foursquare.com/v2/venues/{}?client_id={}&client_secret={}&v={}'\n",
    "    url = url.format(venue_id, CLIENT_ID, CLIENT_SECRET, VERSION)\n",
    "    return requests.get(url).json()"
   ]
  },
  {
   "cell_type": "code",
   "execution_count": null,
   "metadata": {},
   "outputs": [],
   "source": [
    "def get_venue_tips(venue_id):\n",
    "    url = 'https://api.foursquare.com/v2/venues/{}/tips?client_id={}&client_secret={}&v={}&limit={}'\n",
    "    url = url.format(venue_id, CLIENT_ID, CLIENT_SECRET, VERSION, LIMIT)\n",
    "    return requests.get(url).json()"
   ]
  },
  {
   "cell_type": "code",
   "execution_count": null,
   "metadata": {},
   "outputs": [],
   "source": [
    "def get_overall_rating(result):\n",
    "    rating = 'This venue has not been rated yet.'\n",
    "    try: rating = result['response']['venue']['rating']\n",
    "    except: pass\n",
    "    return rating"
   ]
  },
  {
   "cell_type": "code",
   "execution_count": 52,
   "metadata": {},
   "outputs": [],
   "source": [
    "venue_tips = [\n",
    "    ['Kona Country Club', '#14 is worth the entire day... Bring a camera!'],\n",
    "    ['Kona Country Club', \"It's fun to crack macadamia nuts w your cart at the 15th hole.\"],\n",
    "    ['Kona Country Club', \"The effective sea breeze on fairway 18 is more than you feel from the tee.\"]]"
   ]
  },
  {
   "cell_type": "code",
   "execution_count": 53,
   "metadata": {},
   "outputs": [],
   "source": [
    "tips_df = pd.DataFrame(columns=['Golf Course', 'Tip'])\n",
    "for crs, tip in venue_tips:\n",
    "    tips_df = tips_df.append({'Golf Course': crs, 'Tip': tip}, ignore_index=True)"
   ]
  },
  {
   "cell_type": "code",
   "execution_count": null,
   "metadata": {},
   "outputs": [],
   "source": [
    "l_venues = create_venues_list(json_data)\n",
    "big_island_map = create_map(lat, lng, l_venues)"
   ]
  },
  {
   "cell_type": "code",
   "execution_count": 56,
   "metadata": {},
   "outputs": [],
   "source": [
    "pd.set_option('display.max_colwidth', 200)"
   ]
  },
  {
   "cell_type": "markdown",
   "metadata": {},
   "source": [
    "Okay, we have the data so let's look at the results..."
   ]
  },
  {
   "cell_type": "markdown",
   "metadata": {},
   "source": [
    "### Island Maps"
   ]
  },
  {
   "cell_type": "code",
   "execution_count": 60,
   "metadata": {},
   "outputs": [],
   "source": [
    "#big_island_map"
   ]
  },
  {
   "cell_type": "markdown",
   "metadata": {},
   "source": [
    "![Alt text](./big_island_map.jpg)"
   ]
  },
  {
   "cell_type": "markdown",
   "metadata": {},
   "source": [
    "### Golf Course Short List"
   ]
  },
  {
   "cell_type": "code",
   "execution_count": 57,
   "metadata": {},
   "outputs": [
    {
     "data": {
      "text/html": [
       "<div>\n",
       "<style scoped>\n",
       "    .dataframe tbody tr th:only-of-type {\n",
       "        vertical-align: middle;\n",
       "    }\n",
       "\n",
       "    .dataframe tbody tr th {\n",
       "        vertical-align: top;\n",
       "    }\n",
       "\n",
       "    .dataframe thead th {\n",
       "        text-align: right;\n",
       "    }\n",
       "</style>\n",
       "<table border=\"1\" class=\"dataframe\">\n",
       "  <thead>\n",
       "    <tr style=\"text-align: right;\">\n",
       "      <th></th>\n",
       "      <th>Golf Course</th>\n",
       "      <th>Latitude</th>\n",
       "      <th>Longitude</th>\n",
       "      <th>Distance</th>\n",
       "    </tr>\n",
       "  </thead>\n",
       "  <tbody>\n",
       "    <tr>\n",
       "      <th>0</th>\n",
       "      <td>Four Seasons Resort Hualalai At Historic Ka`Upulehu</td>\n",
       "      <td>19.827752</td>\n",
       "      <td>-155.991819</td>\n",
       "      <td>59.4</td>\n",
       "    </tr>\n",
       "    <tr>\n",
       "      <th>1</th>\n",
       "      <td>Hapuna Golf Course</td>\n",
       "      <td>19.995342</td>\n",
       "      <td>-155.820798</td>\n",
       "      <td>66.4</td>\n",
       "    </tr>\n",
       "    <tr>\n",
       "      <th>2</th>\n",
       "      <td>Hualalai Golf Course</td>\n",
       "      <td>19.826661</td>\n",
       "      <td>-155.991906</td>\n",
       "      <td>59.3</td>\n",
       "    </tr>\n",
       "    <tr>\n",
       "      <th>3</th>\n",
       "      <td>Kona Country Club: The Ocean Course</td>\n",
       "      <td>19.559458</td>\n",
       "      <td>-155.964965</td>\n",
       "      <td>42.6</td>\n",
       "    </tr>\n",
       "    <tr>\n",
       "      <th>4</th>\n",
       "      <td>Mauna Kea Golf Course</td>\n",
       "      <td>20.006168</td>\n",
       "      <td>-155.823015</td>\n",
       "      <td>67.2</td>\n",
       "    </tr>\n",
       "    <tr>\n",
       "      <th>5</th>\n",
       "      <td>Mauna Lani South Course</td>\n",
       "      <td>19.938855</td>\n",
       "      <td>-155.867346</td>\n",
       "      <td>63.5</td>\n",
       "    </tr>\n",
       "    <tr>\n",
       "      <th>6</th>\n",
       "      <td>Nanea</td>\n",
       "      <td>19.795180</td>\n",
       "      <td>-155.998184</td>\n",
       "      <td>57.5</td>\n",
       "    </tr>\n",
       "    <tr>\n",
       "      <th>7</th>\n",
       "      <td>The Club At Hokulia</td>\n",
       "      <td>19.506256</td>\n",
       "      <td>-155.947365</td>\n",
       "      <td>38.9</td>\n",
       "    </tr>\n",
       "    <tr>\n",
       "      <th>8</th>\n",
       "      <td>Waikoloa Village Golf Club</td>\n",
       "      <td>19.930252</td>\n",
       "      <td>-155.793443</td>\n",
       "      <td>61.7</td>\n",
       "    </tr>\n",
       "    <tr>\n",
       "      <th>9</th>\n",
       "      <td>Waikoloa Village Golf Club</td>\n",
       "      <td>19.930490</td>\n",
       "      <td>-155.794758</td>\n",
       "      <td>61.7</td>\n",
       "    </tr>\n",
       "  </tbody>\n",
       "</table>\n",
       "</div>"
      ],
      "text/plain": [
       "                                           Golf Course   Latitude   Longitude  \\\n",
       "0  Four Seasons Resort Hualalai At Historic Ka`Upulehu  19.827752 -155.991819   \n",
       "1                                   Hapuna Golf Course  19.995342 -155.820798   \n",
       "2                                 Hualalai Golf Course  19.826661 -155.991906   \n",
       "3                  Kona Country Club: The Ocean Course  19.559458 -155.964965   \n",
       "4                                Mauna Kea Golf Course  20.006168 -155.823015   \n",
       "5                              Mauna Lani South Course  19.938855 -155.867346   \n",
       "6                                                Nanea  19.795180 -155.998184   \n",
       "7                                  The Club At Hokulia  19.506256 -155.947365   \n",
       "8                           Waikoloa Village Golf Club  19.930252 -155.793443   \n",
       "9                           Waikoloa Village Golf Club  19.930490 -155.794758   \n",
       "\n",
       "   Distance  \n",
       "0      59.4  \n",
       "1      66.4  \n",
       "2      59.3  \n",
       "3      42.6  \n",
       "4      67.2  \n",
       "5      63.5  \n",
       "6      57.5  \n",
       "7      38.9  \n",
       "8      61.7  \n",
       "9      61.7  "
      ]
     },
     "execution_count": 57,
     "metadata": {},
     "output_type": "execute_result"
    }
   ],
   "source": [
    "short_list"
   ]
  },
  {
   "cell_type": "markdown",
   "metadata": {},
   "source": [
    "### Course Tips"
   ]
  },
  {
   "cell_type": "code",
   "execution_count": 58,
   "metadata": {},
   "outputs": [
    {
     "data": {
      "text/html": [
       "<div>\n",
       "<style scoped>\n",
       "    .dataframe tbody tr th:only-of-type {\n",
       "        vertical-align: middle;\n",
       "    }\n",
       "\n",
       "    .dataframe tbody tr th {\n",
       "        vertical-align: top;\n",
       "    }\n",
       "\n",
       "    .dataframe thead th {\n",
       "        text-align: right;\n",
       "    }\n",
       "</style>\n",
       "<table border=\"1\" class=\"dataframe\">\n",
       "  <thead>\n",
       "    <tr style=\"text-align: right;\">\n",
       "      <th></th>\n",
       "      <th>Golf Course</th>\n",
       "      <th>Tip</th>\n",
       "    </tr>\n",
       "  </thead>\n",
       "  <tbody>\n",
       "    <tr>\n",
       "      <th>0</th>\n",
       "      <td>Kona Country Club</td>\n",
       "      <td>#14 is worth the entire day... Bring a camera!</td>\n",
       "    </tr>\n",
       "    <tr>\n",
       "      <th>1</th>\n",
       "      <td>Kona Country Club</td>\n",
       "      <td>It's fun to crack macadamia nuts w your cart at the 15th hole.</td>\n",
       "    </tr>\n",
       "    <tr>\n",
       "      <th>2</th>\n",
       "      <td>Kona Country Club</td>\n",
       "      <td>The effective sea breeze on fairway 18 is more than you feel from the tee.</td>\n",
       "    </tr>\n",
       "  </tbody>\n",
       "</table>\n",
       "</div>"
      ],
      "text/plain": [
       "         Golf Course  \\\n",
       "0  Kona Country Club   \n",
       "1  Kona Country Club   \n",
       "2  Kona Country Club   \n",
       "\n",
       "                                                                          Tip  \n",
       "0                              #14 is worth the entire day... Bring a camera!  \n",
       "1              It's fun to crack macadamia nuts w your cart at the 15th hole.  \n",
       "2  The effective sea breeze on fairway 18 is more than you feel from the tee.  "
      ]
     },
     "execution_count": 58,
     "metadata": {},
     "output_type": "execute_result"
    }
   ],
   "source": [
    "tips_df"
   ]
  }
 ],
 "metadata": {
  "kernelspec": {
   "display_name": "Python 3",
   "language": "python",
   "name": "python3"
  },
  "language_info": {
   "codemirror_mode": {
    "name": "ipython",
    "version": 3
   },
   "file_extension": ".py",
   "mimetype": "text/x-python",
   "name": "python",
   "nbconvert_exporter": "python",
   "pygments_lexer": "ipython3",
   "version": "3.6.5"
  }
 },
 "nbformat": 4,
 "nbformat_minor": 2
}
