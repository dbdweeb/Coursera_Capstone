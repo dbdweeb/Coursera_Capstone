{
 "cells": [
  {
   "cell_type": "markdown",
   "metadata": {},
   "source": [
    "## Golfing in Hawaii"
   ]
  },
  {
   "cell_type": "markdown",
   "metadata": {},
   "source": [
    "### Problem Description and Discussion\n",
    "\n",
    "In discovery discussions with the client on the **_business of golf in Hawaii_**, it soon became clear they were looking for sound data on which to make some significant business decisions. In their business community everyone claims to know the business. But the client wants to go beyond anecdotal stories and acquire a deep understanding of the customer. \n",
    "\n",
    "There are many vacationers coming to Hawaii who also play some golf while they are here. But among those coming to Hawaii, many are serious golfers looking to maintain their game skills during the off season. As we often tell the mainlanders, \"_It's never off season in Hawaii._\"\n",
    "\n",
    "**The casual golfer:** For the casual golfer there are many suitable services such as: resorts with splendid accommodations and golf courses; golf tour packages through online hotel reservation systems; a few independent tour guide services specializing in golf; and the occasional golf pro instructor with a small client base. Oftentimes the golf pro will work almost exclusively with one of the big resorts and have the occasional side job with a client. \n",
    "\n",
    "**The serious golfer:** For the serious golfer finding an adequate service is more of a challenge. While they may enjoy some vacation time while here, their main focus is golf, serious golf. They don't want to be annoyed by casual golfers, they don't want to be treated like a tourist, they often come for an extended stay in Hawaii every winter for one main purpose, serious golf. While golf courses at the resorts are quite good, they don't want to get stuck in a foursome with golf novices because this is all about **_serious golf_**. This type of visitor is willing to pay **_serious money_**. These clients are looking for an upscale guide service which includes knowledgeable golf pros and caters to serious golfers like themselves. This type of customer is usually looking to play several golf courses during their stay. For this customer it's like collecting bragging rights for their golf buddies so they can say things like, \"_Oh yeah, I golfed that course. Do you remember the 14th fairway?_\" \n",
    "\n",
    "#### Key Question\n",
    "From an extensive review of golf services in Hawaii a key question came into focus... \n",
    "\n",
    "\"**_How can we provide the best tour guide service for the serious golfer coming to Hawaii?_**\" \n",
    "\n",
    "With this question there a several follow-on questions:\n",
    "- Which courses are most likely to be on the serious golfer's list?\n",
    "- Which courses should we strongly recommend?\n",
    "- How long is the typical golfing vacation?\n",
    "- How many days should we plan the tours?\n",
    "- For a one week tour, which golf courses would a serious golf fan play?\n",
    "- Two week tour?\n",
    "- Three week tour?\n",
    "- How do the accommodations fit into this equation?\n",
    "- What is the short list of courses for us to spend time on gaining the intimate knowledge needed \n",
    "to give good recommendations on how to play each hole on the course?\n",
    "\n",
    "#### Stakeholders\n",
    "There are many potential stakeholders in these questions and the data needed to answer them:\n",
    "- The resort and hotel industry\n",
    "- The golf course design and construction industry\n",
    "- The tour guide industry\n",
    "- Golf pro instructors\n",
    "\n",
    "#### Target Audience\n",
    "The target audience for this data science study is a consortium of golf instructors. While they do okay as captive employees to the stereotypical resort, they can do much better as independent guides. While they often receive tips as a resort employee, as an independent guide they can build the tip into the service and still receive additional, lucrative tips which they don't have to share with the resort staff. While there is competition among the independent golf pros, they realize they can pool their knowledge and skills to offer a premium service with broad appeal. \n",
    "\n",
    "#### Why They Care\n",
    "By building this premium service together, this like minded group of golf pros is confident they can make an exceptionally good living while living in paradise and \"working\" at one of the best jobs in the world. \n",
    "\n",
    "--------"
   ]
  },
  {
   "cell_type": "markdown",
   "metadata": {},
   "source": [
    "## Data Description and Usage\n",
    "\n",
    "#### Foursquare Data\n",
    "For this project it is abundantly clear that the data available from [FOURSQUARE](http://foursquare.com/ \"Foursqare\") is of great value and can be used to:\n",
    "- Develop a geo-location inventory of all the golf courses in Hawaii\n",
    "- Continuously gather and evaluate reviews of all the golf courses\n",
    "- Plan tours to play the most courses with the least amount of travel\n",
    "- Develop a **short list** of the most highly recommended courses for the serious golf fan\n",
    "\n",
    "The geo-location data is indispensable for this project. It can effectively be used to gather and develop a database of golf courses. This database can be used to recommend and tailor custom tours for each client. Island-wide maps of the golf courses will provide a nice visual appeal and help in planning the tour. The distance and location data will be very valuable. Readily available reviews from the tips data in Foursquare will be much better than the typical static reviews on the resort web sites. This is especially valuable for current reviews from real players on the conditions of each golf course. Additionally, the client can encourage reviews from their customers and develop a network of reviewers with a good reputation. Telling the serious golfer that his insights are valuable is not only helpful to the business, but a good compliment and selling point for the customer. Finally, the Foursquare data will come in quite handy for all the other accommodations needed for the tour such as hotels, restaurants and transportation. \n",
    "\n",
    "#### Other Data, Missing Data and Data Wrangling\n",
    "- If data is scarce for some locations and venues, a search for alternative sources should be conducted.\n",
    "- Mean values can be filled it for missing numeric data as appropriate.\n",
    "\n",
    "Per data science methodology, because this study answers the following yes/no question: _Should I play course ABC?_... The **classification approach** will be used.\n",
    "\n",
    "**Data Wrangling** will be a significant effort in providing quality data for this project. Because the source data is provided by end user input, much of the location data needs to be fixed. There is a lack of consistent naming and there are multiple entries for the same golf courses. Specific Foursquare location data for \"the 10th green is not helpful. Likewise, some of the reviews can be flippant and non-informative. \n",
    "\n",
    "#### Extra data needs\n",
    "For specific data beyound what is available in Foursquare, it may be scraped from sites such as these:\n",
    "- [Hawaii Golf](http://www.hawaiigolf.com/courses/)\n",
    "- [Top 100 Courses](https://www.top100golfcourses.com/golf-courses/north-america/usa/hawaii)\n",
    "- [Hawaii State Golf](http://www.hawaiistategolf.org/Default.aspx%3Fp%3DDynamicModule%26pageid%3D309547%26ssid%3D198036%26vnf%3D1)\n",
    "\n",
    "#### Data Examples\n",
    "Here are some examples of the data we will provide: \n",
    "- Island Maps\n",
    "- The Golf Course Short List\n",
    "- Course Reviews"
   ]
  },
  {
   "cell_type": "markdown",
   "metadata": {},
   "source": [
    "### Island Maps\n",
    "\n",
    "Notes to project reviewer:\n",
    "- Please note that this is just a data preview, so the map will only be for the Big Island.\n",
    "- Please scroll down to the bottom so you can review the resulting visuals of the example data."
   ]
  },
  {
   "cell_type": "code",
   "execution_count": 1,
   "metadata": {},
   "outputs": [
    {
     "name": "stdout",
     "output_type": "stream",
     "text": [
      "Libraries imported.\n"
     ]
    }
   ],
   "source": [
    "# Import all needed packages here\n",
    "import numpy as np\n",
    "import pandas as pd\n",
    "import requests\n",
    "import json\n",
    "from pandas.io.json import json_normalize\n",
    "#import matplotlib.cm as cm\n",
    "#import matplotlib.colors as colors\n",
    "import geocoder\n",
    "import folium\n",
    "from constants import CLIENT_ID, CLIENT_SECRET, CATID, VERSION, LIMIT\n",
    "pd.set_option('display.max_columns', None)\n",
    "pd.set_option('display.max_rows', 20)\n",
    "print('Libraries imported.')"
   ]
  },
  {
   "cell_type": "markdown",
   "metadata": {},
   "source": [
    "#### Get location data"
   ]
  },
  {
   "cell_type": "code",
   "execution_count": 3,
   "metadata": {},
   "outputs": [],
   "source": [
    "geo_data = [ #Island      Town             Radius    meters in a mile = 1610\n",
    "            ('Hawaii',   'Naalehu, HI',    161000),\n",
    "            ('Lanai',    'Lanai City, HI',  16100),\n",
    "            ('Maui',     'Pukalani, HI',    40250),\n",
    "            ('Molokai',  'Kualapuu, HI',     4830),\n",
    "            ('Oahu',     'Laie, HI',        64400),\n",
    "            ('Kauai',    'Wailua, HI',      40250),\n",
    "           ]"
   ]
  },
  {
   "cell_type": "code",
   "execution_count": 5,
   "metadata": {},
   "outputs": [
    {
     "name": "stdout",
     "output_type": "stream",
     "text": [
      "Naalehu, HI 19.061420000000055 -155.58232999999998\n",
      "Lanai City, HI 20.82794000000007 -156.91951999999998\n",
      "Pukalani, HI 20.839210000000037 -156.34107999999998\n",
      "Kualapuu, HI 21.151910000000044 -157.03659999999996\n",
      "Laie, HI 21.64867000000004 -157.92323999999996\n",
      "Wailua, HI 22.055890000000034 -159.37107999999998\n",
      "Done getting coordinates.\n"
     ]
    }
   ],
   "source": [
    "default_radius = 40234 # in meters = 25 miles\n",
    "d_island = {}\n",
    "for island, town, radius in geo_data:\n",
    "    lat = lng = None\n",
    "    while lng is None:\n",
    "        gc = geocoder.arcgis(town)\n",
    "        lat, lng = gc.latlng\n",
    "    d_island[town] = {'latitude':lat, 'longitude': lng, 'radius': radius,\n",
    "                      'venue_list': None, 'venues_df': None, 'map': None}\n",
    "    print(town, lat, lng)\n",
    "\n",
    "print('Done getting coordinates.')"
   ]
  },
  {
   "cell_type": "code",
   "execution_count": 13,
   "metadata": {},
   "outputs": [],
   "source": [
    "# Just do the Big Island for the example\n",
    "lat = 19.061420000000055\n",
    "lng = -155.58232999999998\n",
    "radius = 161000"
   ]
  },
  {
   "cell_type": "code",
   "execution_count": 14,
   "metadata": {},
   "outputs": [],
   "source": [
    "def get_geo_data(lat, lng, radius):\n",
    "    burl = 'https://api.foursquare.com/v2/venues/search?'\n",
    "    buri = '&client_id={}&client_secret={}&v={}&categoryId={}&limit={}&radius={}&ll={},{}'\n",
    "    url = burl + buri\n",
    "    url = url.format(CLIENT_ID, CLIENT_SECRET, VERSION, CATID, LIMIT, radius, lat, lng)\n",
    "    return requests.get(url).json()"
   ]
  },
  {
   "cell_type": "code",
   "execution_count": 18,
   "metadata": {},
   "outputs": [],
   "source": [
    "json_data = get_geo_data(lat, lng, radius)"
   ]
  },
  {
   "cell_type": "code",
   "execution_count": 16,
   "metadata": {},
   "outputs": [],
   "source": [
    "def create_venues_list(json_data):\n",
    "    l_dict_data = json_data['response']['venues'][:]\n",
    "    l_venues = []\n",
    "    for dven in l_dict_data:\n",
    "        ltmp = [dven['name'].title(), \n",
    "                float(dven['location']['lat']), \n",
    "                float(dven['location']['lng']), \n",
    "                round(dven['location']['distance']/1609.344, 1),\n",
    "                dven['id']]\n",
    "        l_venues.append(ltmp)\n",
    "    l_venues.sort()\n",
    "    return l_venues"
   ]
  },
  {
   "cell_type": "code",
   "execution_count": null,
   "metadata": {},
   "outputs": [],
   "source": [
    "l_venues = create_venues_list(json_data)\n",
    "top_courses = [\n",
    " 'Four Seasons Resort Hualalai At Historic Ka`Upulehu',\n",
    " 'Hapuna Golf Course',\n",
    " 'The Club At Hokulia',\n",
    " 'Hualalai Golf Course',\n",
    " 'Kona Country Club: The Ocean Course',\n",
    " 'Mauna Kea Golf Course',\n",
    " 'Mauna Lani South Course',\n",
    " 'Nanea',\n",
    " 'Waikoloa Village Golf Club']\n",
    "top_venues = [ven for ven in l_venues if ven[0] in top_courses]\n",
    "short_list = create_venues_df(top_venues)\n",
    "#short_list"
   ]
  },
  {
   "cell_type": "code",
   "execution_count": 41,
   "metadata": {},
   "outputs": [],
   "source": [
    "def create_venues_df(list_data):\n",
    "    df = pd.DataFrame(columns=['Golf Course', 'Latitude', 'Longitude', 'Distance'])\n",
    "    for crs, lat, lng, dst, id in list_data:\n",
    "        df = df.append({'Golf Course': crs, 'Latitude': lat, 'Longitude': lng,\n",
    "                        'Distance': dst}, ignore_index=True)\n",
    "    return df"
   ]
  },
  {
   "cell_type": "code",
   "execution_count": 46,
   "metadata": {},
   "outputs": [],
   "source": [
    "def create_map(lat, lng, points):\n",
    "    the_map = folium.Map(location=[lat, lng], zoom_start=9)\n",
    "    # add points for golf courses\n",
    "    for course, lat, lng, dst, vid in points:\n",
    "        label = '{}'.format(course)\n",
    "        label = folium.Popup(label, parse_html=True)\n",
    "        folium.CircleMarker([lat, lng], radius=5, popup=label, color='blue',\n",
    "            fill=True, fill_color='#3186cc', fill_opacity=0.7, \n",
    "            parse_html=False).add_to(the_map)\n",
    "\n",
    "    return the_map"
   ]
  },
  {
   "cell_type": "code",
   "execution_count": 47,
   "metadata": {},
   "outputs": [],
   "source": [
    "def get_venue_data(venue_id):\n",
    "    url = 'https://api.foursquare.com/v2/venues/{}?client_id={}&client_secret={}&v={}'\n",
    "    url = url.format(venue_id, CLIENT_ID, CLIENT_SECRET, VERSION)\n",
    "    return requests.get(url).json()"
   ]
  },
  {
   "cell_type": "code",
   "execution_count": null,
   "metadata": {},
   "outputs": [],
   "source": [
    "def get_venue_tips(venue_id):\n",
    "    url = 'https://api.foursquare.com/v2/venues/{}/tips?client_id={}&client_secret={}&v={}&limit={}'\n",
    "    url = url.format(venue_id, CLIENT_ID, CLIENT_SECRET, VERSION, LIMIT)\n",
    "    return requests.get(url).json()"
   ]
  },
  {
   "cell_type": "code",
   "execution_count": null,
   "metadata": {},
   "outputs": [],
   "source": [
    "def get_overall_rating(result):\n",
    "    rating = 'This venue has not been rated yet.'\n",
    "    try: rating = result['response']['venue']['rating']\n",
    "    except: pass\n",
    "    return rating"
   ]
  },
  {
   "cell_type": "code",
   "execution_count": 52,
   "metadata": {},
   "outputs": [],
   "source": [
    "venue_tips = [\n",
    "    ['Kona Country Club', '#14 is worth the entire day... Bring a camera!'],\n",
    "    ['Kona Country Club', \"It's fun to crack macadamia nuts w your cart at the 15th hole.\"],\n",
    "    ['Kona Country Club', \"The effective sea breeze on fairway 18 is more than you feel from the tee.\"]]"
   ]
  },
  {
   "cell_type": "code",
   "execution_count": 53,
   "metadata": {},
   "outputs": [],
   "source": [
    "tips_df = pd.DataFrame(columns=['Golf Course', 'Tip'])\n",
    "for crs, tip in venue_tips:\n",
    "    tips_df = tips_df.append({'Golf Course': crs, 'Tip': tip}, ignore_index=True)"
   ]
  },
  {
   "cell_type": "code",
   "execution_count": null,
   "metadata": {},
   "outputs": [],
   "source": [
    "l_venues = create_venues_list(json_data)\n",
    "big_island_map = create_map(lat, lng, l_venues)"
   ]
  },
  {
   "cell_type": "code",
   "execution_count": 56,
   "metadata": {},
   "outputs": [],
   "source": [
    "pd.set_option('display.max_colwidth', 200)"
   ]
  },
  {
   "cell_type": "markdown",
   "metadata": {},
   "source": [
    "Okay, we have the data so let's look at the results..."
   ]
  },
  {
   "cell_type": "markdown",
   "metadata": {},
   "source": [
    "### Island Maps"
   ]
  },
  {
   "cell_type": "code",
   "execution_count": 48,
   "metadata": {},
   "outputs": [
    {
     "data": {
      "text/html": [
       "<div style=\"width:100%;\"><div style=\"position:relative;width:100%;height:0;padding-bottom:60%;\"><iframe src=\"data:text/html;charset=utf-8;base64,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\" style=\"position:absolute;width:100%;height:100%;left:0;top:0;border:none !important;\" allowfullscreen webkitallowfullscreen mozallowfullscreen></iframe></div></div>"
      ],
      "text/plain": [
       "<folium.folium.Map at 0x7f3bd4bd1a58>"
      ]
     },
     "execution_count": 48,
     "metadata": {},
     "output_type": "execute_result"
    }
   ],
   "source": [
    "big_island_map"
   ]
  },
  {
   "cell_type": "markdown",
   "metadata": {},
   "source": [
    "### Golf Course Short List"
   ]
  },
  {
   "cell_type": "code",
   "execution_count": 57,
   "metadata": {},
   "outputs": [
    {
     "data": {
      "text/html": [
       "<div>\n",
       "<style scoped>\n",
       "    .dataframe tbody tr th:only-of-type {\n",
       "        vertical-align: middle;\n",
       "    }\n",
       "\n",
       "    .dataframe tbody tr th {\n",
       "        vertical-align: top;\n",
       "    }\n",
       "\n",
       "    .dataframe thead th {\n",
       "        text-align: right;\n",
       "    }\n",
       "</style>\n",
       "<table border=\"1\" class=\"dataframe\">\n",
       "  <thead>\n",
       "    <tr style=\"text-align: right;\">\n",
       "      <th></th>\n",
       "      <th>Golf Course</th>\n",
       "      <th>Latitude</th>\n",
       "      <th>Longitude</th>\n",
       "      <th>Distance</th>\n",
       "    </tr>\n",
       "  </thead>\n",
       "  <tbody>\n",
       "    <tr>\n",
       "      <th>0</th>\n",
       "      <td>Four Seasons Resort Hualalai At Historic Ka`Upulehu</td>\n",
       "      <td>19.827752</td>\n",
       "      <td>-155.991819</td>\n",
       "      <td>59.4</td>\n",
       "    </tr>\n",
       "    <tr>\n",
       "      <th>1</th>\n",
       "      <td>Hapuna Golf Course</td>\n",
       "      <td>19.995342</td>\n",
       "      <td>-155.820798</td>\n",
       "      <td>66.4</td>\n",
       "    </tr>\n",
       "    <tr>\n",
       "      <th>2</th>\n",
       "      <td>Hualalai Golf Course</td>\n",
       "      <td>19.826661</td>\n",
       "      <td>-155.991906</td>\n",
       "      <td>59.3</td>\n",
       "    </tr>\n",
       "    <tr>\n",
       "      <th>3</th>\n",
       "      <td>Kona Country Club: The Ocean Course</td>\n",
       "      <td>19.559458</td>\n",
       "      <td>-155.964965</td>\n",
       "      <td>42.6</td>\n",
       "    </tr>\n",
       "    <tr>\n",
       "      <th>4</th>\n",
       "      <td>Mauna Kea Golf Course</td>\n",
       "      <td>20.006168</td>\n",
       "      <td>-155.823015</td>\n",
       "      <td>67.2</td>\n",
       "    </tr>\n",
       "    <tr>\n",
       "      <th>5</th>\n",
       "      <td>Mauna Lani South Course</td>\n",
       "      <td>19.938855</td>\n",
       "      <td>-155.867346</td>\n",
       "      <td>63.5</td>\n",
       "    </tr>\n",
       "    <tr>\n",
       "      <th>6</th>\n",
       "      <td>Nanea</td>\n",
       "      <td>19.795180</td>\n",
       "      <td>-155.998184</td>\n",
       "      <td>57.5</td>\n",
       "    </tr>\n",
       "    <tr>\n",
       "      <th>7</th>\n",
       "      <td>The Club At Hokulia</td>\n",
       "      <td>19.506256</td>\n",
       "      <td>-155.947365</td>\n",
       "      <td>38.9</td>\n",
       "    </tr>\n",
       "    <tr>\n",
       "      <th>8</th>\n",
       "      <td>Waikoloa Village Golf Club</td>\n",
       "      <td>19.930252</td>\n",
       "      <td>-155.793443</td>\n",
       "      <td>61.7</td>\n",
       "    </tr>\n",
       "    <tr>\n",
       "      <th>9</th>\n",
       "      <td>Waikoloa Village Golf Club</td>\n",
       "      <td>19.930490</td>\n",
       "      <td>-155.794758</td>\n",
       "      <td>61.7</td>\n",
       "    </tr>\n",
       "  </tbody>\n",
       "</table>\n",
       "</div>"
      ],
      "text/plain": [
       "                                           Golf Course   Latitude   Longitude  \\\n",
       "0  Four Seasons Resort Hualalai At Historic Ka`Upulehu  19.827752 -155.991819   \n",
       "1                                   Hapuna Golf Course  19.995342 -155.820798   \n",
       "2                                 Hualalai Golf Course  19.826661 -155.991906   \n",
       "3                  Kona Country Club: The Ocean Course  19.559458 -155.964965   \n",
       "4                                Mauna Kea Golf Course  20.006168 -155.823015   \n",
       "5                              Mauna Lani South Course  19.938855 -155.867346   \n",
       "6                                                Nanea  19.795180 -155.998184   \n",
       "7                                  The Club At Hokulia  19.506256 -155.947365   \n",
       "8                           Waikoloa Village Golf Club  19.930252 -155.793443   \n",
       "9                           Waikoloa Village Golf Club  19.930490 -155.794758   \n",
       "\n",
       "   Distance  \n",
       "0      59.4  \n",
       "1      66.4  \n",
       "2      59.3  \n",
       "3      42.6  \n",
       "4      67.2  \n",
       "5      63.5  \n",
       "6      57.5  \n",
       "7      38.9  \n",
       "8      61.7  \n",
       "9      61.7  "
      ]
     },
     "execution_count": 57,
     "metadata": {},
     "output_type": "execute_result"
    }
   ],
   "source": [
    "short_list"
   ]
  },
  {
   "cell_type": "markdown",
   "metadata": {},
   "source": [
    "### Course Tips"
   ]
  },
  {
   "cell_type": "code",
   "execution_count": 58,
   "metadata": {},
   "outputs": [
    {
     "data": {
      "text/html": [
       "<div>\n",
       "<style scoped>\n",
       "    .dataframe tbody tr th:only-of-type {\n",
       "        vertical-align: middle;\n",
       "    }\n",
       "\n",
       "    .dataframe tbody tr th {\n",
       "        vertical-align: top;\n",
       "    }\n",
       "\n",
       "    .dataframe thead th {\n",
       "        text-align: right;\n",
       "    }\n",
       "</style>\n",
       "<table border=\"1\" class=\"dataframe\">\n",
       "  <thead>\n",
       "    <tr style=\"text-align: right;\">\n",
       "      <th></th>\n",
       "      <th>Golf Course</th>\n",
       "      <th>Tip</th>\n",
       "    </tr>\n",
       "  </thead>\n",
       "  <tbody>\n",
       "    <tr>\n",
       "      <th>0</th>\n",
       "      <td>Kona Country Club</td>\n",
       "      <td>#14 is worth the entire day... Bring a camera!</td>\n",
       "    </tr>\n",
       "    <tr>\n",
       "      <th>1</th>\n",
       "      <td>Kona Country Club</td>\n",
       "      <td>It's fun to crack macadamia nuts w your cart at the 15th hole.</td>\n",
       "    </tr>\n",
       "    <tr>\n",
       "      <th>2</th>\n",
       "      <td>Kona Country Club</td>\n",
       "      <td>The effective sea breeze on fairway 18 is more than you feel from the tee.</td>\n",
       "    </tr>\n",
       "  </tbody>\n",
       "</table>\n",
       "</div>"
      ],
      "text/plain": [
       "         Golf Course  \\\n",
       "0  Kona Country Club   \n",
       "1  Kona Country Club   \n",
       "2  Kona Country Club   \n",
       "\n",
       "                                                                          Tip  \n",
       "0                              #14 is worth the entire day... Bring a camera!  \n",
       "1              It's fun to crack macadamia nuts w your cart at the 15th hole.  \n",
       "2  The effective sea breeze on fairway 18 is more than you feel from the tee.  "
      ]
     },
     "execution_count": 58,
     "metadata": {},
     "output_type": "execute_result"
    }
   ],
   "source": [
    "tips_df"
   ]
  }
 ],
 "metadata": {
  "kernelspec": {
   "display_name": "Python 3",
   "language": "python",
   "name": "python3"
  },
  "language_info": {
   "codemirror_mode": {
    "name": "ipython",
    "version": 3
   },
   "file_extension": ".py",
   "mimetype": "text/x-python",
   "name": "python",
   "nbconvert_exporter": "python",
   "pygments_lexer": "ipython3",
   "version": "3.6.5"
  }
 },
 "nbformat": 4,
 "nbformat_minor": 2
}
