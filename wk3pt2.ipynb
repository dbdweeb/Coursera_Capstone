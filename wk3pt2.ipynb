{
 "cells": [
  {
   "cell_type": "markdown",
   "metadata": {},
   "source": [
    "# Capstone Week 3 Project - Part 2"
   ]
  },
  {
   "cell_type": "markdown",
   "metadata": {},
   "source": [
    "#### To set the context, the below is a continuation of part 1. Scroll to the bottom to pick with part 2"
   ]
  },
  {
   "cell_type": "markdown",
   "metadata": {},
   "source": [
    "Get neighborhood data for Toronto"
   ]
  },
  {
   "cell_type": "code",
   "execution_count": 1,
   "metadata": {},
   "outputs": [
    {
     "name": "stdout",
     "output_type": "stream",
     "text": [
      "Libraries imported.\n"
     ]
    }
   ],
   "source": [
    "# Import all needed packages here\n",
    "import numpy as np\n",
    "import pandas as pd\n",
    "from bs4 import BeautifulSoup\n",
    "import requests\n",
    "import lxml\n",
    "from pprint import pprint\n",
    "from collections import defaultdict\n",
    "import csv\n",
    "print('Libraries imported.')"
   ]
  },
  {
   "cell_type": "code",
   "execution_count": 2,
   "metadata": {},
   "outputs": [],
   "source": [
    "url = 'https://en.wikipedia.org/wiki/List_of_postal_codes_of_Canada:_M'\n",
    "# go get the web page\n",
    "web_page = requests.get(url)\n",
    "# make some tasty soup\n",
    "soup = BeautifulSoup(web_page.content, 'html.parser')"
   ]
  },
  {
   "cell_type": "markdown",
   "metadata": {},
   "source": [
    "I viewed the Wikipedia page in Firefox then pressed Ctrl+U to see the source. The data is in a table of class 'wikitable'. With this I will:\n",
    "1. Get the HTML for that specific table\n",
    "2. Parse out the row data\n",
    "3. Load the data into a Python list\n",
    "4. Create the pandas DataFrame from the list\n",
    "\n",
    "**Note:** I am using ``defaultdict`` from the handy Python ``collections`` module to accumulate a list of neighborhoods in a borough. Then I do some data wrangling to transform that list into a comma separated string and output the results to the list for pandas DataFrame creation."
   ]
  },
  {
   "cell_type": "markdown",
   "metadata": {},
   "source": [
    "#### DataFrame Creation Below..."
   ]
  },
  {
   "cell_type": "code",
   "execution_count": 30,
   "metadata": {},
   "outputs": [],
   "source": [
    "trono_fsas = soup.find('table', class_='wikitable')\n",
    "html_rows = trono_fsas.find_all('tr')\n",
    "data = []\n",
    "d_pc_boro = defaultdict(list)\n",
    "# loop thru the rows, populate dict with key (boro, pc), append list of neighborhoods\n",
    "for tr in html_rows:\n",
    "    td = tr.find_all('td')\n",
    "    row = [tr.text.strip() for tr in td if tr.text.strip()]\n",
    "    if len(row) == 3:\n",
    "        pc = row[0]\n",
    "        boro = row[1]\n",
    "        nbh = row[2]\n",
    "        if boro == 'Not assigned':  # ignore cells with unassigned Borough\n",
    "            continue\n",
    "        if nbh == 'Not assigned':  # name unassigned neighborhoods to the name of the Borough\n",
    "            nbh = boro\n",
    "        d_pc_boro[(boro, pc)].append(nbh)  # group the neighborhoods\n",
    "# loop thru the dict, turn list of neighborhoods to a string and output a list for pandas\n",
    "for (bro, pcode), hoods in sorted(d_pc_boro.items()):\n",
    "    nbstr = ', '.join(hoods)  # concatenate the hoods\n",
    "    data.append([pcode, bro, nbstr])\n",
    "\n",
    "df = pd.DataFrame(data, columns=['PostalCode', 'Borough', 'Neighborhood'])"
   ]
  },
  {
   "cell_type": "code",
   "execution_count": 4,
   "metadata": {},
   "outputs": [
    {
     "data": {
      "text/plain": [
       "(103, 3)"
      ]
     },
     "execution_count": 4,
     "metadata": {},
     "output_type": "execute_result"
    }
   ],
   "source": [
    "df.shape"
   ]
  },
  {
   "cell_type": "markdown",
   "metadata": {},
   "source": [
    "---"
   ]
  },
  {
   "cell_type": "markdown",
   "metadata": {},
   "source": [
    "### Part 2 starts here. Make sure the above cells are run...\n",
    "\n",
    "``Click Cell > Run All``\n",
    "\n",
    "Download the Geospatial data"
   ]
  },
  {
   "cell_type": "code",
   "execution_count": 5,
   "metadata": {},
   "outputs": [
    {
     "name": "stdout",
     "output_type": "stream",
     "text": [
      "Solving environment: done\n",
      "\n",
      "## Package Plan ##\n",
      "\n",
      "  environment location: /home/steve.orr/anaconda3\n",
      "\n",
      "  added / updated specs: \n",
      "    - geocoder\n",
      "\n",
      "\n",
      "The following packages will be downloaded:\n",
      "\n",
      "    package                    |            build\n",
      "    ---------------------------|-----------------\n",
      "    geocoder-1.38.1            |             py_0          52 KB  conda-forge\n",
      "    ratelim-0.1.6              |           py36_0           5 KB  conda-forge\n",
      "    orderedset-2.0             |           py36_0         231 KB  conda-forge\n",
      "    ------------------------------------------------------------\n",
      "                                           Total:         288 KB\n",
      "\n",
      "The following NEW packages will be INSTALLED:\n",
      "\n",
      "    geocoder:   1.38.1-py_0  conda-forge\n",
      "    orderedset: 2.0-py36_0   conda-forge\n",
      "    ratelim:    0.1.6-py36_0 conda-forge\n",
      "\n",
      "\n",
      "Downloading and Extracting Packages\n",
      "geocoder-1.38.1      | 52 KB     | ##################################### | 100% \n",
      "ratelim-0.1.6        | 5 KB      | ##################################### | 100% \n",
      "orderedset-2.0       | 231 KB    | ##################################### | 100% \n",
      "Preparing transaction: done\n",
      "Verifying transaction: done\n",
      "Executing transaction: done\n",
      "Libraries imported.\n"
     ]
    }
   ],
   "source": [
    "!conda install -c conda-forge geocoder --yes\n",
    "import geocoder\n",
    "print('Libraries imported.')"
   ]
  },
  {
   "cell_type": "code",
   "execution_count": 31,
   "metadata": {},
   "outputs": [
    {
     "name": "stdout",
     "output_type": "stream",
     "text": [
      "[43.648690000000045, -79.38543999999996]\n"
     ]
    }
   ],
   "source": [
    "# Looks like arcgis works okay - Google is not dependable\n",
    "#g = geocoder.google('Toronto, Ontario')\n",
    "g = geocoder.arcgis('Toronto, Ontario')\n",
    "print(g.latlng)"
   ]
  },
  {
   "cell_type": "code",
   "execution_count": 13,
   "metadata": {},
   "outputs": [
    {
     "name": "stdout",
     "output_type": "stream",
     "text": [
      "M4N 43.728135000000066 -79.38709009599995\n",
      "M4P 43.71275500000007 -79.38851449699996\n",
      "M4R 43.71452278400005 -79.40695999999997\n",
      "M4S 43.702765000000056 -79.38576922699997\n",
      "M4T 43.69050500000003 -79.38297337799997\n",
      "M4V 43.68600329800006 -79.40233499999994\n",
      "M5N 43.711941154000044 -79.41911999999996\n",
      "M5P 43.69478500000008 -79.41440483299994\n",
      "M5R 43.674840000000074 -79.40369769099993\n",
      "M4W 43.68196000000006 -79.37844455599998\n",
      "M4X 43.66815500000007 -79.36660016899998\n",
      "M4Y 43.666585000000055 -79.38130203699995\n",
      "M5A 43.65512000000007 -79.36263979699999\n",
      "M5B 43.65736301100003 -79.37817999999999\n",
      "M5C 43.65121000000005 -79.37548057699996\n",
      "M5E 43.64516015600003 -79.37367499999993\n",
      "M5G 43.65609081300005 -79.38492999999994\n",
      "M5H 43.64970000000005 -79.38258157399997\n",
      "M5J 43.623470000000054 -79.39397931299999\n",
      "M5K 43.64839853600006 -79.38393934999993\n",
      "M5L 43.64839500000005 -79.37886491099994\n",
      "M5S 43.663110000000074 -79.40180056699995\n",
      "M5T 43.65352500000006 -79.39723062399997\n",
      "M5V 43.64081500000003 -79.39953781899999\n",
      "M5W 43.648690000000045 -79.38543999999996\n",
      "M5X 43.64833647100005 -79.38446161299998\n",
      "M6G 43.66869349500007 -79.42070999999999\n",
      "M4E 43.67653131600008 -79.29540999999995\n",
      "M4K 43.68326150000007 -79.35511999999994\n",
      "M4L 43.667985000000044 -79.31464243899995\n",
      "M4M 43.662765652000076 -79.33482999999995\n",
      "M7Y 43.648690000000045 -79.38543999999996\n",
      "M4B 43.70746500000007 -79.31180326899994\n",
      "M4C 43.68964500000004 -79.30716516199999\n",
      "M4G 43.70976500000006 -79.36379132299999\n",
      "M4H 43.70124000000004 -79.34988053599994\n",
      "M4J 43.688765344000046 -79.33417499999996\n",
      "M8V 43.609920000000045 -79.49804936299995\n",
      "M8W 43.601196379000044 -79.53888499999994\n",
      "M8X 43.653590000000065 -79.51113014299995\n",
      "M8Y 43.63276500000006 -79.48960141199996\n",
      "M8Z 43.62507000000005 -79.52713539699994\n",
      "M9A 43.662301917000036 -79.52830499999999\n",
      "M9B 43.649737842000036 -79.55405499999995\n",
      "M9C 43.648573449000025 -79.57824999999997\n",
      "M9P 43.696300000000065 -79.53041120099994\n",
      "M9R 43.68681000000004 -79.55728354099995\n",
      "M9V 43.743795000000034 -79.58543142099995\n",
      "M9W 43.71174000000008 -79.57940980999996\n",
      "M7R 43.648690000000045 -79.38543999999996\n",
      "M2H 43.80284500000005 -79.35623615099996\n",
      "M2J 43.78081000000003 -79.34778216099994\n",
      "M2K 43.781015000000025 -79.38054242199996\n",
      "M2L 43.75717700000007 -79.37993999999998\n",
      "M2M 43.791300000000035 -79.41354639199994\n",
      "M2N 43.76816500000007 -79.40741984599998\n",
      "M2P 43.74781000000007 -79.40006199699997\n",
      "M2R 43.77774500000004 -79.44569980999995\n",
      "M3A 43.75243500000005 -79.32926764499996\n",
      "M3B 43.749055000000055 -79.36221249999994\n",
      "M3C 43.72137500000008 -79.34341517599995\n",
      "M3H 43.75787500000007 -79.44862056499994\n",
      "M3J 43.76476500000007 -79.48850236099997\n",
      "M3K 43.73893144400006 -79.46731999999997\n",
      "M3L 43.74094500000007 -79.50500357499999\n",
      "M3M 43.733610000000056 -79.49675000499997\n",
      "M3N 43.75535563600005 -79.51958999999994\n",
      "M4A 43.73041708400007 -79.31333999999998\n",
      "M5M 43.73580500000003 -79.41924750999993\n",
      "M6A 43.72327000000007 -79.45160268899997\n",
      "M6B 43.70799000000005 -79.44837013099999\n",
      "M6L 43.71381000000008 -79.48830076899998\n",
      "M9L 43.75950000000006 -79.55702785699998\n",
      "M9M 43.73366500000003 -79.53747679599996\n",
      "M7A 43.66107155600008 -79.39089499999994\n",
      "M1B 43.81165000000004 -79.19556138899998\n",
      "M1C 43.78560500000003 -79.15870110299994\n",
      "M1E 43.76569000000006 -79.17529924399997\n",
      "M1G 43.76821641200007 -79.21760999999998\n",
      "M1H 43.769608066000046 -79.23943999999995\n",
      "M1J 43.743085000000065 -79.23217158499995\n",
      "M1K 43.72625965800006 -79.26366999999993\n",
      "M1L 43.71321309600006 -79.28490999999997\n",
      "M1M 43.72357500000004 -79.23497617799995\n",
      "M1N 43.696690000000046 -79.26006895899997\n",
      "M1P 43.759975000000054 -79.26897402899993\n",
      "M1R 43.75080267200008 -79.30055999999996\n",
      "M1S 43.79394000000008 -79.26797613999997\n",
      "M1T 43.78472500000004 -79.29924441799994\n",
      "M1V 43.81759500000004 -79.28014659999997\n",
      "M1W 43.80069800200005 -79.32073999999994\n",
      "M1X 43.83421500000003 -79.21670085099998\n",
      "M6H 43.66508694300006 -79.43870499999997\n",
      "M6J 43.64852500000006 -79.41775713399994\n",
      "M6K 43.639410000000055 -79.42543564399995\n",
      "M6P 43.659730000000025 -79.46281194799997\n",
      "M6R 43.64787000000007 -79.44976249999996\n",
      "M6S 43.64957000000004 -79.47505693299996\n",
      "M6C 43.692105179000066 -79.43035499999996\n",
      "M6E 43.68861000000004 -79.45100340899995\n",
      "M6M 43.69454500000006 -79.48449539499995\n",
      "M6N 43.67579500000005 -79.48196038399999\n",
      "M9N 43.70490500000005 -79.51771232799996\n"
     ]
    }
   ],
   "source": [
    "for idx, row in df.iterrows():\n",
    "    lat = lng = None\n",
    "    while lng is None:\n",
    "        gc = geocoder.arcgis('{}, Toronto, Ontario'.format(row['PostalCode']))\n",
    "        lat, lng = gc.latlng\n",
    "    df.at[idx, 'Latitude'] = lat\n",
    "    df.at[idx, 'Longitude'] = lng\n",
    "    print(row['PostalCode'], lat, lng)\n",
    "\n",
    "print('Done getting coordinates.')"
   ]
  },
  {
   "cell_type": "code",
   "execution_count": 14,
   "metadata": {},
   "outputs": [
    {
     "data": {
      "text/html": [
       "<div>\n",
       "<style scoped>\n",
       "    .dataframe tbody tr th:only-of-type {\n",
       "        vertical-align: middle;\n",
       "    }\n",
       "\n",
       "    .dataframe tbody tr th {\n",
       "        vertical-align: top;\n",
       "    }\n",
       "\n",
       "    .dataframe thead th {\n",
       "        text-align: right;\n",
       "    }\n",
       "</style>\n",
       "<table border=\"1\" class=\"dataframe\">\n",
       "  <thead>\n",
       "    <tr style=\"text-align: right;\">\n",
       "      <th></th>\n",
       "      <th>PostalCode</th>\n",
       "      <th>Borough</th>\n",
       "      <th>Neighborhood</th>\n",
       "      <th>Latitude</th>\n",
       "      <th>Longitude</th>\n",
       "    </tr>\n",
       "  </thead>\n",
       "  <tbody>\n",
       "    <tr>\n",
       "      <th>0</th>\n",
       "      <td>M4N</td>\n",
       "      <td>Central Toronto</td>\n",
       "      <td>Lawrence Park</td>\n",
       "      <td>43.728135</td>\n",
       "      <td>-79.387090</td>\n",
       "    </tr>\n",
       "    <tr>\n",
       "      <th>1</th>\n",
       "      <td>M4P</td>\n",
       "      <td>Central Toronto</td>\n",
       "      <td>Davisville North</td>\n",
       "      <td>43.712755</td>\n",
       "      <td>-79.388514</td>\n",
       "    </tr>\n",
       "    <tr>\n",
       "      <th>2</th>\n",
       "      <td>M4R</td>\n",
       "      <td>Central Toronto</td>\n",
       "      <td>North Toronto West</td>\n",
       "      <td>43.714523</td>\n",
       "      <td>-79.406960</td>\n",
       "    </tr>\n",
       "    <tr>\n",
       "      <th>3</th>\n",
       "      <td>M4S</td>\n",
       "      <td>Central Toronto</td>\n",
       "      <td>Davisville</td>\n",
       "      <td>43.702765</td>\n",
       "      <td>-79.385769</td>\n",
       "    </tr>\n",
       "    <tr>\n",
       "      <th>4</th>\n",
       "      <td>M4T</td>\n",
       "      <td>Central Toronto</td>\n",
       "      <td>Moore Park, Summerhill East</td>\n",
       "      <td>43.690505</td>\n",
       "      <td>-79.382973</td>\n",
       "    </tr>\n",
       "  </tbody>\n",
       "</table>\n",
       "</div>"
      ],
      "text/plain": [
       "  PostalCode          Borough                 Neighborhood   Latitude  \\\n",
       "0        M4N  Central Toronto                Lawrence Park  43.728135   \n",
       "1        M4P  Central Toronto             Davisville North  43.712755   \n",
       "2        M4R  Central Toronto           North Toronto West  43.714523   \n",
       "3        M4S  Central Toronto                   Davisville  43.702765   \n",
       "4        M4T  Central Toronto  Moore Park, Summerhill East  43.690505   \n",
       "\n",
       "   Longitude  \n",
       "0 -79.387090  \n",
       "1 -79.388514  \n",
       "2 -79.406960  \n",
       "3 -79.385769  \n",
       "4 -79.382973  "
      ]
     },
     "execution_count": 14,
     "metadata": {},
     "output_type": "execute_result"
    }
   ],
   "source": [
    "df.head()"
   ]
  },
  {
   "cell_type": "code",
   "execution_count": 15,
   "metadata": {},
   "outputs": [
    {
     "name": "stdout",
     "output_type": "stream",
     "text": [
      "Data downloaded!\n"
     ]
    }
   ],
   "source": [
    "!wget -q -O 'Geospatial_Coordinates.csv' https://cocl.us/Geospatial_data\n",
    "print('Data downloaded!')"
   ]
  },
  {
   "cell_type": "markdown",
   "metadata": {},
   "source": [
    "Look at the data..."
   ]
  },
  {
   "cell_type": "code",
   "execution_count": 16,
   "metadata": {},
   "outputs": [],
   "source": [
    "with open('Geospatial_Coordinates.csv') as csv_data:\n",
    "    longlatdat = csv_data.readlines()\n",
    "    longlatdat"
   ]
  },
  {
   "cell_type": "code",
   "execution_count": 17,
   "metadata": {},
   "outputs": [
    {
     "data": {
      "text/plain": [
       "['Postal Code,Latitude,Longitude\\n',\n",
       " 'M1B,43.8066863,-79.1943534\\n',\n",
       " 'M1C,43.7845351,-79.1604971\\n',\n",
       " 'M1E,43.7635726,-79.1887115\\n',\n",
       " 'M1G,43.7709921,-79.2169174\\n']"
      ]
     },
     "execution_count": 17,
     "metadata": {},
     "output_type": "execute_result"
    }
   ],
   "source": [
    "longlatdat[:5]"
   ]
  },
  {
   "cell_type": "markdown",
   "metadata": {},
   "source": [
    "There are three columns, so create a dictionary for each postal code so we can look them when we loop through our data."
   ]
  },
  {
   "cell_type": "code",
   "execution_count": 18,
   "metadata": {},
   "outputs": [],
   "source": [
    "d_postal_code = {}  # {'code': (lat, long)}\n",
    "with open('Geospatial_Coordinates.csv', newline='') as csvfile:\n",
    "    reader = csv.DictReader(csvfile)\n",
    "    for row in reader:\n",
    "        d_postal_code[row['Postal Code']] = (row['Latitude'], row['Longitude'])"
   ]
  },
  {
   "cell_type": "code",
   "execution_count": 19,
   "metadata": {},
   "outputs": [
    {
     "data": {
      "text/plain": [
       "[['M4N', 'Central Toronto', 'Lawrence Park'],\n",
       " ['M4P', 'Central Toronto', 'Davisville North'],\n",
       " ['M4R', 'Central Toronto', 'North Toronto West'],\n",
       " ['M4S', 'Central Toronto', 'Davisville'],\n",
       " ['M4T', 'Central Toronto', 'Moore Park, Summerhill East']]"
      ]
     },
     "execution_count": 19,
     "metadata": {},
     "output_type": "execute_result"
    }
   ],
   "source": [
    "data[:5]"
   ]
  },
  {
   "cell_type": "markdown",
   "metadata": {},
   "source": [
    "**Critical Note:** Make sure the data appears in the above. If not rerun the **DataFrame creation** cell above!!"
   ]
  },
  {
   "cell_type": "markdown",
   "metadata": {},
   "source": [
    "Loop thru the original data and create a list with the coordinate data."
   ]
  },
  {
   "cell_type": "code",
   "execution_count": 20,
   "metadata": {},
   "outputs": [
    {
     "data": {
      "text/plain": [
       "[['M4N', 'Central Toronto', 'Lawrence Park', '43.7280205', '-79.3887901'],\n",
       " ['M4P', 'Central Toronto', 'Davisville North', '43.7127511', '-79.3901975'],\n",
       " ['M4R', 'Central Toronto', 'North Toronto West', '43.7153834', '-79.4056784'],\n",
       " ['M4S', 'Central Toronto', 'Davisville', '43.7043244', '-79.3887901'],\n",
       " ['M4T',\n",
       "  'Central Toronto',\n",
       "  'Moore Park, Summerhill East',\n",
       "  '43.6895743',\n",
       "  '-79.3831599']]"
      ]
     },
     "execution_count": 20,
     "metadata": {},
     "output_type": "execute_result"
    }
   ],
   "source": [
    "l_hoods = []\n",
    "for pc, boro, hoods in data:\n",
    "    lat, lng = d_postal_code[pc]\n",
    "    l_hoods.append([pc, boro, hoods, lat, lng])\n",
    "l_hoods[:5]"
   ]
  },
  {
   "cell_type": "markdown",
   "metadata": {},
   "source": [
    "Create the new DataFrame with the coordinate data..."
   ]
  },
  {
   "cell_type": "code",
   "execution_count": 29,
   "metadata": {},
   "outputs": [],
   "source": [
    "coord_df = pd.DataFrame(l_hoods, columns=['PostalCode', 'Borough', 'Neighborhood', 'Latitude', 'Longitude'])"
   ]
  },
  {
   "cell_type": "code",
   "execution_count": 22,
   "metadata": {},
   "outputs": [
    {
     "data": {
      "text/plain": [
       "(103, 5)"
      ]
     },
     "execution_count": 22,
     "metadata": {},
     "output_type": "execute_result"
    }
   ],
   "source": [
    "coord_df.shape"
   ]
  },
  {
   "cell_type": "code",
   "execution_count": 23,
   "metadata": {},
   "outputs": [
    {
     "data": {
      "text/plain": [
       "(103, 5)"
      ]
     },
     "execution_count": 23,
     "metadata": {},
     "output_type": "execute_result"
    }
   ],
   "source": [
    "df.shape"
   ]
  },
  {
   "cell_type": "markdown",
   "metadata": {},
   "source": [
    "#### Note from the below there differences depending on the data source."
   ]
  },
  {
   "cell_type": "code",
   "execution_count": 25,
   "metadata": {},
   "outputs": [
    {
     "data": {
      "text/html": [
       "<div>\n",
       "<style scoped>\n",
       "    .dataframe tbody tr th:only-of-type {\n",
       "        vertical-align: middle;\n",
       "    }\n",
       "\n",
       "    .dataframe tbody tr th {\n",
       "        vertical-align: top;\n",
       "    }\n",
       "\n",
       "    .dataframe thead th {\n",
       "        text-align: right;\n",
       "    }\n",
       "</style>\n",
       "<table border=\"1\" class=\"dataframe\">\n",
       "  <thead>\n",
       "    <tr style=\"text-align: right;\">\n",
       "      <th></th>\n",
       "      <th>PostalCode</th>\n",
       "      <th>Borough</th>\n",
       "      <th>Neighborhood</th>\n",
       "      <th>Latitude</th>\n",
       "      <th>Longitude</th>\n",
       "    </tr>\n",
       "  </thead>\n",
       "  <tbody>\n",
       "    <tr>\n",
       "      <th>0</th>\n",
       "      <td>M4N</td>\n",
       "      <td>Central Toronto</td>\n",
       "      <td>Lawrence Park</td>\n",
       "      <td>43.728135</td>\n",
       "      <td>-79.387090</td>\n",
       "    </tr>\n",
       "    <tr>\n",
       "      <th>1</th>\n",
       "      <td>M4P</td>\n",
       "      <td>Central Toronto</td>\n",
       "      <td>Davisville North</td>\n",
       "      <td>43.712755</td>\n",
       "      <td>-79.388514</td>\n",
       "    </tr>\n",
       "    <tr>\n",
       "      <th>2</th>\n",
       "      <td>M4R</td>\n",
       "      <td>Central Toronto</td>\n",
       "      <td>North Toronto West</td>\n",
       "      <td>43.714523</td>\n",
       "      <td>-79.406960</td>\n",
       "    </tr>\n",
       "    <tr>\n",
       "      <th>3</th>\n",
       "      <td>M4S</td>\n",
       "      <td>Central Toronto</td>\n",
       "      <td>Davisville</td>\n",
       "      <td>43.702765</td>\n",
       "      <td>-79.385769</td>\n",
       "    </tr>\n",
       "    <tr>\n",
       "      <th>4</th>\n",
       "      <td>M4T</td>\n",
       "      <td>Central Toronto</td>\n",
       "      <td>Moore Park, Summerhill East</td>\n",
       "      <td>43.690505</td>\n",
       "      <td>-79.382973</td>\n",
       "    </tr>\n",
       "  </tbody>\n",
       "</table>\n",
       "</div>"
      ],
      "text/plain": [
       "  PostalCode          Borough                 Neighborhood   Latitude  \\\n",
       "0        M4N  Central Toronto                Lawrence Park  43.728135   \n",
       "1        M4P  Central Toronto             Davisville North  43.712755   \n",
       "2        M4R  Central Toronto           North Toronto West  43.714523   \n",
       "3        M4S  Central Toronto                   Davisville  43.702765   \n",
       "4        M4T  Central Toronto  Moore Park, Summerhill East  43.690505   \n",
       "\n",
       "   Longitude  \n",
       "0 -79.387090  \n",
       "1 -79.388514  \n",
       "2 -79.406960  \n",
       "3 -79.385769  \n",
       "4 -79.382973  "
      ]
     },
     "execution_count": 25,
     "metadata": {},
     "output_type": "execute_result"
    }
   ],
   "source": [
    "df.head()"
   ]
  },
  {
   "cell_type": "code",
   "execution_count": 26,
   "metadata": {},
   "outputs": [
    {
     "data": {
      "text/html": [
       "<div>\n",
       "<style scoped>\n",
       "    .dataframe tbody tr th:only-of-type {\n",
       "        vertical-align: middle;\n",
       "    }\n",
       "\n",
       "    .dataframe tbody tr th {\n",
       "        vertical-align: top;\n",
       "    }\n",
       "\n",
       "    .dataframe thead th {\n",
       "        text-align: right;\n",
       "    }\n",
       "</style>\n",
       "<table border=\"1\" class=\"dataframe\">\n",
       "  <thead>\n",
       "    <tr style=\"text-align: right;\">\n",
       "      <th></th>\n",
       "      <th>PostalCode</th>\n",
       "      <th>Borough</th>\n",
       "      <th>Neighborhood</th>\n",
       "      <th>Latitude</th>\n",
       "      <th>Longitude</th>\n",
       "    </tr>\n",
       "  </thead>\n",
       "  <tbody>\n",
       "    <tr>\n",
       "      <th>0</th>\n",
       "      <td>M4N</td>\n",
       "      <td>Central Toronto</td>\n",
       "      <td>Lawrence Park</td>\n",
       "      <td>43.7280205</td>\n",
       "      <td>-79.3887901</td>\n",
       "    </tr>\n",
       "    <tr>\n",
       "      <th>1</th>\n",
       "      <td>M4P</td>\n",
       "      <td>Central Toronto</td>\n",
       "      <td>Davisville North</td>\n",
       "      <td>43.7127511</td>\n",
       "      <td>-79.3901975</td>\n",
       "    </tr>\n",
       "    <tr>\n",
       "      <th>2</th>\n",
       "      <td>M4R</td>\n",
       "      <td>Central Toronto</td>\n",
       "      <td>North Toronto West</td>\n",
       "      <td>43.7153834</td>\n",
       "      <td>-79.4056784</td>\n",
       "    </tr>\n",
       "    <tr>\n",
       "      <th>3</th>\n",
       "      <td>M4S</td>\n",
       "      <td>Central Toronto</td>\n",
       "      <td>Davisville</td>\n",
       "      <td>43.7043244</td>\n",
       "      <td>-79.3887901</td>\n",
       "    </tr>\n",
       "    <tr>\n",
       "      <th>4</th>\n",
       "      <td>M4T</td>\n",
       "      <td>Central Toronto</td>\n",
       "      <td>Moore Park, Summerhill East</td>\n",
       "      <td>43.6895743</td>\n",
       "      <td>-79.3831599</td>\n",
       "    </tr>\n",
       "  </tbody>\n",
       "</table>\n",
       "</div>"
      ],
      "text/plain": [
       "  PostalCode          Borough                 Neighborhood    Latitude  \\\n",
       "0        M4N  Central Toronto                Lawrence Park  43.7280205   \n",
       "1        M4P  Central Toronto             Davisville North  43.7127511   \n",
       "2        M4R  Central Toronto           North Toronto West  43.7153834   \n",
       "3        M4S  Central Toronto                   Davisville  43.7043244   \n",
       "4        M4T  Central Toronto  Moore Park, Summerhill East  43.6895743   \n",
       "\n",
       "     Longitude  \n",
       "0  -79.3887901  \n",
       "1  -79.3901975  \n",
       "2  -79.4056784  \n",
       "3  -79.3887901  \n",
       "4  -79.3831599  "
      ]
     },
     "execution_count": 26,
     "metadata": {},
     "output_type": "execute_result"
    }
   ],
   "source": [
    "coord_df.head()"
   ]
  },
  {
   "cell_type": "code",
   "execution_count": 27,
   "metadata": {},
   "outputs": [
    {
     "data": {
      "text/html": [
       "<div>\n",
       "<style scoped>\n",
       "    .dataframe tbody tr th:only-of-type {\n",
       "        vertical-align: middle;\n",
       "    }\n",
       "\n",
       "    .dataframe tbody tr th {\n",
       "        vertical-align: top;\n",
       "    }\n",
       "\n",
       "    .dataframe thead th {\n",
       "        text-align: right;\n",
       "    }\n",
       "</style>\n",
       "<table border=\"1\" class=\"dataframe\">\n",
       "  <thead>\n",
       "    <tr style=\"text-align: right;\">\n",
       "      <th></th>\n",
       "      <th>PostalCode</th>\n",
       "      <th>Borough</th>\n",
       "      <th>Neighborhood</th>\n",
       "      <th>Latitude</th>\n",
       "      <th>Longitude</th>\n",
       "    </tr>\n",
       "  </thead>\n",
       "  <tbody>\n",
       "    <tr>\n",
       "      <th>98</th>\n",
       "      <td>M6C</td>\n",
       "      <td>York</td>\n",
       "      <td>Humewood-Cedarvale</td>\n",
       "      <td>43.692105</td>\n",
       "      <td>-79.430355</td>\n",
       "    </tr>\n",
       "    <tr>\n",
       "      <th>99</th>\n",
       "      <td>M6E</td>\n",
       "      <td>York</td>\n",
       "      <td>Caledonia-Fairbanks</td>\n",
       "      <td>43.688610</td>\n",
       "      <td>-79.451003</td>\n",
       "    </tr>\n",
       "    <tr>\n",
       "      <th>100</th>\n",
       "      <td>M6M</td>\n",
       "      <td>York</td>\n",
       "      <td>Del Ray, Keelsdale, Mount Dennis, Silverthorn</td>\n",
       "      <td>43.694545</td>\n",
       "      <td>-79.484495</td>\n",
       "    </tr>\n",
       "    <tr>\n",
       "      <th>101</th>\n",
       "      <td>M6N</td>\n",
       "      <td>York</td>\n",
       "      <td>The Junction North, Runnymede</td>\n",
       "      <td>43.675795</td>\n",
       "      <td>-79.481960</td>\n",
       "    </tr>\n",
       "    <tr>\n",
       "      <th>102</th>\n",
       "      <td>M9N</td>\n",
       "      <td>York</td>\n",
       "      <td>Weston</td>\n",
       "      <td>43.704905</td>\n",
       "      <td>-79.517712</td>\n",
       "    </tr>\n",
       "  </tbody>\n",
       "</table>\n",
       "</div>"
      ],
      "text/plain": [
       "    PostalCode Borough                                   Neighborhood  \\\n",
       "98         M6C    York                             Humewood-Cedarvale   \n",
       "99         M6E    York                            Caledonia-Fairbanks   \n",
       "100        M6M    York  Del Ray, Keelsdale, Mount Dennis, Silverthorn   \n",
       "101        M6N    York                  The Junction North, Runnymede   \n",
       "102        M9N    York                                         Weston   \n",
       "\n",
       "      Latitude  Longitude  \n",
       "98   43.692105 -79.430355  \n",
       "99   43.688610 -79.451003  \n",
       "100  43.694545 -79.484495  \n",
       "101  43.675795 -79.481960  \n",
       "102  43.704905 -79.517712  "
      ]
     },
     "execution_count": 27,
     "metadata": {},
     "output_type": "execute_result"
    }
   ],
   "source": [
    "df.tail()"
   ]
  },
  {
   "cell_type": "code",
   "execution_count": 28,
   "metadata": {},
   "outputs": [
    {
     "data": {
      "text/html": [
       "<div>\n",
       "<style scoped>\n",
       "    .dataframe tbody tr th:only-of-type {\n",
       "        vertical-align: middle;\n",
       "    }\n",
       "\n",
       "    .dataframe tbody tr th {\n",
       "        vertical-align: top;\n",
       "    }\n",
       "\n",
       "    .dataframe thead th {\n",
       "        text-align: right;\n",
       "    }\n",
       "</style>\n",
       "<table border=\"1\" class=\"dataframe\">\n",
       "  <thead>\n",
       "    <tr style=\"text-align: right;\">\n",
       "      <th></th>\n",
       "      <th>PostalCode</th>\n",
       "      <th>Borough</th>\n",
       "      <th>Neighborhood</th>\n",
       "      <th>Latitude</th>\n",
       "      <th>Longitude</th>\n",
       "    </tr>\n",
       "  </thead>\n",
       "  <tbody>\n",
       "    <tr>\n",
       "      <th>98</th>\n",
       "      <td>M6C</td>\n",
       "      <td>York</td>\n",
       "      <td>Humewood-Cedarvale</td>\n",
       "      <td>43.6937813</td>\n",
       "      <td>-79.4281914</td>\n",
       "    </tr>\n",
       "    <tr>\n",
       "      <th>99</th>\n",
       "      <td>M6E</td>\n",
       "      <td>York</td>\n",
       "      <td>Caledonia-Fairbanks</td>\n",
       "      <td>43.6890256</td>\n",
       "      <td>-79.453512</td>\n",
       "    </tr>\n",
       "    <tr>\n",
       "      <th>100</th>\n",
       "      <td>M6M</td>\n",
       "      <td>York</td>\n",
       "      <td>Del Ray, Keelsdale, Mount Dennis, Silverthorn</td>\n",
       "      <td>43.6911158</td>\n",
       "      <td>-79.4760133</td>\n",
       "    </tr>\n",
       "    <tr>\n",
       "      <th>101</th>\n",
       "      <td>M6N</td>\n",
       "      <td>York</td>\n",
       "      <td>The Junction North, Runnymede</td>\n",
       "      <td>43.6731853</td>\n",
       "      <td>-79.4872619</td>\n",
       "    </tr>\n",
       "    <tr>\n",
       "      <th>102</th>\n",
       "      <td>M9N</td>\n",
       "      <td>York</td>\n",
       "      <td>Weston</td>\n",
       "      <td>43.706876</td>\n",
       "      <td>-79.5181884</td>\n",
       "    </tr>\n",
       "  </tbody>\n",
       "</table>\n",
       "</div>"
      ],
      "text/plain": [
       "    PostalCode Borough                                   Neighborhood  \\\n",
       "98         M6C    York                             Humewood-Cedarvale   \n",
       "99         M6E    York                            Caledonia-Fairbanks   \n",
       "100        M6M    York  Del Ray, Keelsdale, Mount Dennis, Silverthorn   \n",
       "101        M6N    York                  The Junction North, Runnymede   \n",
       "102        M9N    York                                         Weston   \n",
       "\n",
       "       Latitude    Longitude  \n",
       "98   43.6937813  -79.4281914  \n",
       "99   43.6890256   -79.453512  \n",
       "100  43.6911158  -79.4760133  \n",
       "101  43.6731853  -79.4872619  \n",
       "102   43.706876  -79.5181884  "
      ]
     },
     "execution_count": 28,
     "metadata": {},
     "output_type": "execute_result"
    }
   ],
   "source": [
    "coord_df.tail()"
   ]
  }
 ],
 "metadata": {
  "kernelspec": {
   "display_name": "Python 3",
   "language": "python",
   "name": "python3"
  },
  "language_info": {
   "codemirror_mode": {
    "name": "ipython",
    "version": 3
   },
   "file_extension": ".py",
   "mimetype": "text/x-python",
   "name": "python",
   "nbconvert_exporter": "python",
   "pygments_lexer": "ipython3",
   "version": "3.6.5"
  }
 },
 "nbformat": 4,
 "nbformat_minor": 2
}
