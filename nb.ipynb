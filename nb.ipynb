{
 "cells": [
  {
   "cell_type": "markdown",
   "metadata": {
    "slideshow": {
     "slide_type": "slide"
    }
   },
   "source": [
    "# Professional Golf Services in Hawaii\n",
    "\n",
    "**Key Question** – How can we provide the best tour guide service for the **_serious golfer_** coming to Hawaii?\n",
    "\n",
    "\n",
    "\n",
    "![Alt text](./MaunaLaniSouth.jpg)"
   ]
  },
  {
   "cell_type": "markdown",
   "metadata": {
    "slideshow": {
     "slide_type": "slide"
    }
   },
   "source": [
    "## The Business Problem\n",
    "\n",
    "**Using modern data science practices the following insights were gained**\n",
    "- Guide services for casual golfers are adequate\n",
    "- Providing premier service for **_serious golfers_** is a greater challenge\n",
    "\n",
    "**The Serious Golfer:**\n",
    "- Does not want to be treated like a tourist\n",
    "- Does not want to get stuck in foursomes with casual golfers\n",
    "- May visit a few resorts but is not enamored with them\n",
    "- Wants more insight on the best courses to play\n",
    "- Wants to play multiple courses\n",
    "- Wants bragging rights\n",
    "- Wants professional guidance on how to play each hole\n",
    "- Works on his game in Hawaii during the off season on the mainland\n",
    "- Is more likely to make extended trips\n",
    "- Is more likely to be a repeat customer\n",
    "- The **_Serious Golfer_** is willing to pay **_Serious Money_  $$$**\n",
    "\n",
    "Real value is achieved by using data science to build a network of golf pros and serious golfers customers."
   ]
  },
  {
   "cell_type": "markdown",
   "metadata": {
    "slideshow": {
     "slide_type": "slide"
    }
   },
   "source": [
    "# Target Audience\n",
    "\n",
    "This data science study is being provided for a consortium of professional golf instructors wanting to provide premium services to the the serious golfers coming to Hawaii. \n",
    "\n",
    "**Foursquare Data**: This data is of great value and can be used to:\n",
    "- Develop a geo-location inventory of all the golf courses in Hawaii\n",
    "- Continuously gather and evaluate reviews of all the golf courses\n",
    "- Evaluate the popularity of specific golf courses in Hawaii\n",
    "- Plan tours to play the most courses with the least amount of travel\n",
    "\n",
    "**Stakeholders**: Other potential stakeholders who could be interested in this data:\n",
    "- The resort and hotel industry\n",
    "- The golf course design and construction industry\n",
    "- The tour guide industry\n",
    "- Golf pro instructors\n"
   ]
  },
  {
   "cell_type": "markdown",
   "metadata": {
    "slideshow": {
     "slide_type": "skip"
    }
   },
   "source": [
    "skip this cell"
   ]
  },
  {
   "cell_type": "markdown",
   "metadata": {
    "slideshow": {
     "slide_type": "notes"
    }
   },
   "source": [
    "## Data Science Methodology\n",
    "\n",
    "With the key question there were several follow on questions to address:\n",
    "- Which courses are most likely to be on the serious golfer's list?\n",
    "- Which courses should we strongly recommend?\n",
    "- How long is the typical golfing vacation?\n",
    "- How many days should we plan the tours?\n",
    "- For a one week tour, which golf courses would a serious golf fan play?\n",
    "- Two week tour?\n",
    "- Three week tour?\n",
    "- How do accommodations fit into this equation?\n",
    "- What is the short list of courses for us to spend time on gaining the intimate knowledge needed \n",
    "to give good recommendations on how to play each hole on the course?\n",
    "\n",
    "**_Exploratory Data Analysis_** (EDA) was very helpful for viewing the proximity of the top rated courses. **_Data visualization_** and seeing golf course clusters on the maps was instrumental for planning golf tours and accommodation logistics. \n",
    "\n",
    "EDA was also instructive to compare professional golf reviews with novice golf course reviews. How the courses were rated was highly dependent on the needs of the reviewer. For instance, a world class course was given a bad review merely because the reviewer couldn't find drinking water at a particular hole. This is not an issue for the serious golfer who comes prepared. Many of the novice reviews were skewed in favor of the resorts. Novice reviews emphasize the overall \"golf experience\" so the luxuries of the resort are reflected in the \"rating\" of the course. The serious golfer is more focused on the course itself, and by experience they know good accommodation can be made irrespective of a specific resort. Also, if the weather was not good, the novice often gave a lower rating. The serious golfer sees the weather as just another challenge and appreciates a course even in bad weather, maybe even more so. \n",
    "\n",
    "EDA also revealed a weakness with the Foursquare ratings data. Most end user reviews are for restaurants, coffee shops, hotels, vacation accommodations and other similar service venues. Generally the Foursquare platform is not that suitable for a thorough golf course review. Also, casual golfer end users on Foursquare are less likely to have access to the exclusive and private golf courses preferred by the clients. Several of the top rated courses in Hawaii did not have any reviews on Foursquare. One of these was the number one top rated Nanea course where one reviewer stated, \"Nanea Golf Club is so exclusive that it shuns publicity.\" So in an ironic sense, known highly regarded courses which have no or very few ratings from Foursquare are exactly what we are looking for. \n",
    "\n",
    "**_Inferential Statistical Analysis_**: While the Foursquare ratings data was hampered with novice reviews, several thorough and well thought reviews could be found. Compiling reviews from known good reviewers gave good results. The ratings of these reviewers correlated with the ratings of the professional golf reviewer. With this data we could confidently conclude that these good reviewers would also like other courses in our recommended list of premier courses to play while in Hawaii. \n",
    "\n",
    "For the serious golfer the question is, \"Do you want to play XYZ golf course?\" Since this entails a yes/no answer, **_Supervised Learning_** with the **_Classification Approach_** and/or **_Logistic Regression_** was the obvious good fit. Golf courses could be viewed as: 1) municipal public golf course; 2) resort golf course; 3) private golf course; or 4) a golf course with high professional ratings and limited availability or highly controlled tee times giving deference to club members and sponsors. With these perspectives it was seen that some public golf courses actually scored better than some of the resorts. \n",
    "\n",
    "With the discoveries we made in our inferential statistical analysis and our classification approach we were able to derive a system to \"rate the rater.\" We found that good raters liked the same courses. We also found that key word phrases could be used to reveal novice golfers. Revealing phrases: \"the food was great;\" \"there were a lot of nice flowers on the course;\" \"I hated it because it rained for 15 minutes.\" When phrases revealed more discussion about how pretty the sunset was and little about how a particular hole could be played we knew it was a novice review. Likewise, when Foursquare recorded an inordinate number of pictures were taken, it was a novice review. There was good statistical correlation with the phrases used by novice players versus the serious golfer. While **_Natural Language Processing_** could be used to good effect on the text in the reviews, and while classification techniques based on **_Naive Bayes_** could be considered, it was determined that there was not enough data to put it to good use at this time. \n",
    "\n",
    "**_Data Wrangling_**: Significant data wrangling effort on the Foursquare data was needed to provide quality data. Because the source data is provided by end user input, much of the location data was impacted with different names being used for the same venue. There is a lack of naming convention and there are multiple entries for the same golf courses. For example: \"The Arnold Palmer Golf Course at Turtle Bay\" and \"Turtle Bay (Arnold Palmer) referred to the same venue. Also, things like \"the 10th green\" was specified with the Foursquare \"golf course\" classification. Putting greens were classified as golf courses and even though there is a separate classification for miniature golf, it was often misclassified as a golf course. To fix this we standardized on the best known names for a given course and consolidated the data given in the alternative names. There was also a lot of name variance with the usage or non-usage of the native Hawaiian language accents so we standardized on the non-accented \"Anglo/Haole\" or  names. It should be noted that this was done because most of the clientele is coming from the mainland, not out of disrespect for the native Hawaiian culture. "
   ]
  },
  {
   "cell_type": "markdown",
   "metadata": {
    "slideshow": {
     "slide_type": "slide"
    }
   },
   "source": [
    "## Results\n",
    "Using the above related problem description, data, data science methodology, approaches and practices, we were able to definitively identify the top golf courses for the consortium of golf pros to support. We were also able to provide golf courses rankings based on solid and well accepted data. Upon review with the clients there was unanimous consent that all 30 of the golf courses in the final list are worthy for play by the serious golfers coming to Hawaii. This initial map of all the golf course in Hawaii had too many venue points for most people to quickly grasp. Our revised map of just the golf courses the consortium chooses to support turns the overwhelming data into something very easily consumed. These words of one customer summed it up perfectly… \"I can do this! By making a yearly trip to Hawaii every winter, in just a few years I cannot only play all 30 courses, I can get to know them well and play them well, especially with the guidance of the pros who put all of this together.\"\n",
    "\n",
    "(Data graphics and maps are shown in the presentation.)"
   ]
  },
  {
   "cell_type": "markdown",
   "metadata": {
    "slideshow": {
     "slide_type": "subslide"
    }
   },
   "source": [
    "## Observations and Recommendations\n",
    "\n",
    "As related in the above, it was a challenge to get meaning full golf course ratings from the Foursquare end users. But the silver lining here is that those golfers who gave thorough reviews displaying good knowledge of the sport are exactly the kind of customer the consortium of golf pros are looking for. Identifying well prepared reviews by Foursquare users can be used as a prospect to market our services because we can get their contact information from Foursquare. This was not anticipated when the study was initiated. With this insight, the strong recommendation is to mine this data to prospect future customers. This recommendation created a great deal of excitement and discussion with the consortium. Using this data as strategic marketing advantage was very compelling. \n",
    "\n",
    "Another recommendation was to use this data to construct a network of serious golfers. The consortium should create a managed online forum of serious golfers where reviews and experiences are freely shared. This customer base of serious golfers could also rate one another and award badges of recognition. Published articles could also be solicited. \n",
    "\n",
    "Another recommendation was to create a smartphone app made available only to the customers where they could record their verbal recommendations on course play while on the course. This would be new data only available to the consortium which could be used to great strategic advantage. \n",
    "\n",
    "The most significant observation was that there was a reluctance to share the most valuable data of all. That is the golf pro knowledge on how to play specific holes on specific courses. This is hard earned insider knowledge which the pros like to keep to themselves. There was much creative discussion on how this data could be used for competitive advantage by all members of the consortium. It was acknowledge that a golf pro can only have such intimate play advice on a limited number of courses. When a high level of trust is attained with a golf pro specializing on another course, the give and take exchange on this valuable play advice is not uncommon, it is seen as a mutual benefit. Furthermore, the courses are constantly changing with a number of factors such as: hole placement on the greens; tee position changes; cuts on the fairways; course degradation due to weather changes; course design changes; and seasonal variations. \n",
    "\n",
    "Another recommendation was to build a private smartphone app where any golf pro in the consortium can give the best advice on any hole on any course. This will be a great competitive advantage. To entice new customers the consortium can share a limited view of this valuable data for a limited time. Likewise, repeat customers can be rewarded with limited access to this valuable data. \n",
    "\n",
    "Additionally, the client can encourage reviews from their customers and develop a network of reviewers with a good reputation. Telling the serious golfer that his insights are valuable is not only helpful to the business, but a good compliment and selling point for the customer. Finally, the Foursquare data will come in quite handy for all the other accommodations needed for the tour such as hotels, restaurants and transportation. "
   ]
  },
  {
   "cell_type": "markdown",
   "metadata": {
    "slideshow": {
     "slide_type": "slide"
    }
   },
   "source": [
    "## Conclusion\n",
    "\n",
    "Given the overwhelming positive support from my Hawaiian connections this project is a go. \n",
    "\n",
    "The Foursquare geo-location data was indispensable for this project. It was effectively be used to gather and develop a database of intimate golf course knowledge. The distance and location data, the reviews and current conditions reports available with Foursquare were also very valuable. The database we build using this data can be used to recommend and tailor custom tours for each client. With the website containing Island-wide maps of the golf courses, and with the visual appeal it provides, a first class user experience in planning the tour can be achieved. \n",
    "\n",
    "The more eyes we have on the courses, the more observations we can record in our internal database. The more we cultivate this strategic data, the more prepared we will be in tracking the ever changing course play conditions. When we couple this with the continuously updated online Foursquare data the result will be a high level of quality golf pro service unlike any other. With this we will be a cut above all the competition.\n",
    "\n",
    "With the above related data enhancements and insights, with a cultivated network of serious golfers and golf pros, and by adopting the above recommendations, our first class website will highlight the competitive advantage that only our service can offer. With the teamwork of the resident golf pros, the monetary value gained from their shares of stock in the consortium would far exceed the fees and tips they receive as an individual guide. \n",
    "\n",
    "With the superior service made possible by our well curated data and best in class service, we can gain the lion's share of the market for the serious golfers who come to Hawaii every year during the winter. \n",
    "\n",
    "**Remember this...**\n",
    "\n",
    "**_It's never off season in Hawaii._**\n"
   ]
  }
 ],
 "metadata": {
  "celltoolbar": "Slideshow",
  "kernelspec": {
   "display_name": "Python 3",
   "language": "python",
   "name": "python3"
  },
  "language_info": {
   "codemirror_mode": {
    "name": "ipython",
    "version": 3
   },
   "file_extension": ".py",
   "mimetype": "text/x-python",
   "name": "python",
   "nbconvert_exporter": "python",
   "pygments_lexer": "ipython3",
   "version": "3.6.5"
  }
 },
 "nbformat": 4,
 "nbformat_minor": 2
}
