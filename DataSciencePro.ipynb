{
 "cells": [
  {
   "cell_type": "markdown",
   "metadata": {},
   "source": [
    "# Location Data Project"
   ]
  },
  {
   "cell_type": "markdown",
   "metadata": {},
   "source": [
    "Description: In this project I will conduct a **_Battle of the Neighborhoods_** evaluating neighborhood features within a metropolitan area. This will include: \n",
    "- Python! - **Top Rated language for data science!**\n",
    "- Fantastic Python packages for data science like numpy and pandas\n",
    "- Location data obtained from [FOURSQUARE](http://foursquare.com/ \"Foursqare\")\n",
    "\n",
    "The project will be created with Jupyter running on my own Linux server running [CentOS](https://www.centos.org) as follows:\n",
    "\n",
    "    !cat /etc/redhat-release\n",
    "    CentOS Linux release 7.5.1804 (Core) "
   ]
  },
  {
   "cell_type": "markdown",
   "metadata": {},
   "source": [
    "The Python packages used in the project are managed by the wonderful [Conda Project](https://conda.io/docs/)\n"
   ]
  },
  {
   "cell_type": "markdown",
   "metadata": {},
   "source": [
    "First we will import some packages and demonstrate that IPython is working..."
   ]
  },
  {
   "cell_type": "code",
   "execution_count": 4,
   "metadata": {},
   "outputs": [
    {
     "name": "stdout",
     "output_type": "stream",
     "text": [
      "Hello Capstone Project Course!\n",
      "\n",
      "And HOWDY from Montana!!\n"
     ]
    }
   ],
   "source": [
    "import numpy as np\n",
    "import pandas as pd\n",
    "\n",
    "print(\"Hello Capstone Project Course!\\n\")\n",
    "print(\"And HOWDY from Montana!!\")"
   ]
  },
  {
   "cell_type": "code",
   "execution_count": null,
   "metadata": {},
   "outputs": [],
   "source": []
  }
 ],
 "metadata": {
  "kernelspec": {
   "display_name": "Python 3",
   "language": "python",
   "name": "python3"
  },
  "language_info": {
   "codemirror_mode": {
    "name": "ipython",
    "version": 3
   },
   "file_extension": ".py",
   "mimetype": "text/x-python",
   "name": "python",
   "nbconvert_exporter": "python",
   "pygments_lexer": "ipython3",
   "version": "3.6.5"
  }
 },
 "nbformat": 4,
 "nbformat_minor": 2
}
